{
 "cells": [
  {
   "cell_type": "markdown",
   "metadata": {},
   "source": [
    "# Ejercicios Prácticos de Numpy\n",
    "\n",
    "Esta serie de ejercicios aborda los conceptos de Numpy vistos previamente"
   ]
  },
  {
   "cell_type": "code",
   "execution_count": 2,
   "metadata": {},
   "outputs": [],
   "source": [
    "import numpy as np"
   ]
  },
  {
   "cell_type": "markdown",
   "metadata": {},
   "source": [
    "## Ejercicio 1: Análisis de Ventas de una Cafetería \n",
    "\n",
    "Eres el encargado de una cafetería y has registrado las ventas diarias de cafés vendidos durante el último mes (30 días).\n",
    "\n",
    "Las ventas fueron: 45, 52, 48, 61, 58, 55, 49, 47, 73, 68, 71, 69, 52, 54, 58, 62, 65, 59, 63, 67, 70, 55, 51, 49, 75, 78, 72, 69, 66, 64\n",
    "\n",
    "**Tareas:**\n",
    "1. Crea un array con estos datos\n",
    "2. Calcula cuántos cafés vendiste en promedio por día\n",
    "3. Identifica el día con más ventas y el día con menos ventas\n",
    "4. Calcula cuántos días vendiste más de 60 cafés\n",
    "5. El café cuesta 2.5€. Calcula los ingresos totales del mes"
   ]
  },
  {
   "cell_type": "markdown",
   "metadata": {},
   "source": [
    "## Ejercicio 2: Análisis de Notas de un Examen \n",
    "\n",
    "Los alumnos de una clase tienen las siguientes notas (sobre 10):\n",
    "\n",
    "6.5, 7.2, 4.8, 8.9, 5.5, 9.1, 7.8, 6.2, 3.5, 8.5, 7.0, 6.8, 9.5, 5.2, 7.5, 8.0, 6.0, 7.8, 8.2, 5.8\n",
    "\n",
    "**Tareas:**\n",
    "1. Crea un array con las notas\n",
    "2. Calcula la nota media de la clase\n",
    "3. Cuenta cuántos alumnos aprobaron (nota >= 5)\n",
    "4. Cuenta cuántos sacaron notable \n",
    "5. Identifica las notas que están por debajo de la media\n",
    "6. Suma 0.5 puntos a todas las notas (sin superar 10)\n",
    "7. Obten la tercera nota más alta de la clase"
   ]
  },
  {
   "cell_type": "markdown",
   "metadata": {},
   "source": [
    "## Ejercicio 3: Control de Inventario de un Supermercado\n",
    "\n",
    "Trabajas en un supermercado y necesitas gestionar el inventario de 5 productos. Tienes los siguientes datos:\n",
    "\n",
    "- **Stock actual**: [120, 45, 200, 15, 80] unidades\n",
    "- **Precio por unidad**: [2.5, 15.0, 1.2, 8.5, 3.0] euros\n",
    "- **Stock mínimo requerido**: [50, 20, 100, 10, 30] unidades\n",
    "\n",
    "**Tareas:**\n",
    "1. Crea arrays para cada tipo de dato\n",
    "2. Calcula el valor total del inventario (stock * precio)\n",
    "3. Identifica qué productos están por debajo del stock mínimo\n",
    "4. Calcula cuántas unidades faltan para alcanzar el stock mínimo en cada producto\n",
    "5. Si vendes 30 unidades del producto 1 y 10 del producto 3, actualiza el stock"
   ]
  },
  {
   "cell_type": "markdown",
   "metadata": {},
   "source": [
    "## Ejercicio 4: Análisis de Temperaturas Semanales\n",
    "\n",
    "Estás analizando las temperaturas de tu ciudad registradas durante una semana. Se tomaron 4 mediciones diarias (6h, 12h, 18h, 24h).\n",
    "\n",
    "Los datos son (matriz 7 días x 4 mediciones):\n",
    "```\n",
    "Lun: 12, 18, 16, 10\n",
    "Mar: 13, 20, 18, 11\n",
    "Mié: 15, 22, 20, 13\n",
    "Jue: 14, 21, 19, 12\n",
    "Vie: 16, 24, 21, 14\n",
    "Sáb: 18, 26, 23, 16\n",
    "Dom: 17, 25, 22, 15\n",
    "```\n",
    "\n",
    "**Tareas:**\n",
    "1. Crea una matriz con estos datos\n",
    "2. Calcula la temperatura media de toda la semana\n",
    "3. Calcula la temperatura media de cada día\n",
    "4. Calcula la temperatura media de cada hora \n",
    "5. Identifica el día más caluroso y el más frío\n",
    "6. Cuenta cuántas mediciones superaron los 20 grados"
   ]
  },
  {
   "cell_type": "markdown",
   "metadata": {},
   "source": [
    "## Ejercicio 5: Análisis de Rendimiento de Empleados \n",
    "\n",
    "Eres el jefe de un equipo de 8 empleados y has evaluado su rendimiento en 4 áreas: Productividad, Calidad, Trabajo en equipo y Puntualidad. Las puntuaciones van de 0 a 10.\n",
    "\n",
    "```\n",
    "Empleado 1: 8, 7, 9, 6\n",
    "Empleado 2: 6, 8, 7, 9\n",
    "Empleado 3: 9, 9, 8, 8\n",
    "Empleado 4: 5, 6, 7, 5\n",
    "Empleado 5: 7, 8, 8, 7\n",
    "Empleado 6: 10, 9, 9, 10\n",
    "Empleado 7: 6, 7, 6, 8\n",
    "Empleado 8: 8, 8, 9, 7\n",
    "```\n",
    "\n",
    "**Tareas:**\n",
    "1. Crea una matriz con estos datos\n",
    "2. Calcula la puntuación media de cada empleado\n",
    "3. Identifica al empleado con mejor rendimiento global\n",
    "4. Calcula la puntuación media de cada categoría (las 4 áreas)\n",
    "5. Los empleados con media >= 8 reciben bonus. ¿Cuántos lo reciben?\n",
    "6. Identifica qué empleados tienen todas las puntuaciones >= 7"
   ]
  },
  {
   "cell_type": "markdown",
   "metadata": {},
   "source": [
    "## Ejercicio 6: Simulación de Inversiones \n",
    "\n",
    "Has invertido 10,000€ en 5 acciones diferentes. Quieres simular cómo podría evolucionar tu cartera durante 30 días.\n",
    "\n",
    "**Distribución inicial:**\n",
    "- Acción A: 2000€\n",
    "- Acción B: 2500€\n",
    "- Acción C: 1500€\n",
    "- Acción D: 2000€\n",
    "- Acción E: 2000€\n",
    "\n",
    "**Tareas:**\n",
    "1. Crea un array con la inversión inicial en cada acción\n",
    "2. Simula la variación diaria de cada acción durante 30 días (usa números aleatorios entre -5% y +5%)\n",
    "3. Calcula el valor final de cada acción después de 30 días\n",
    "4. ¿Cuál fue la acción más rentable?\n",
    "5. ¿Cuál es el valor total de tu cartera al final?\n",
    "6. Calcula el rendimiento total (ganancia o pérdida en porcentaje)\n",
    "\n",
    "*Pista: Para simular variaciones diarias, puedes usar np.random.uniform(-0.05, 0.05, (30, 5)) y aplicarlo iterativamente*"
   ]
  },
  {
   "cell_type": "markdown",
   "metadata": {},
   "source": [
    "## Ejercicio 7: Control de Calidad en una Fábrica \n",
    "\n",
    "Trabajas en control de calidad de una fábrica. Has medido el peso (en gramos) de 50 productos que deberían pesar 500g cada uno.\n",
    "\n",
    "Los productos deben cumplir:\n",
    "- Peso objetivo: 500g\n",
    "- Tolerancia: ±10g (entre 490g y 510g)\n",
    "\n",
    "**Tareas:**\n",
    "1. Simula los pesos de 50 productos usando distribución normal (media=500, desviación=8)\n",
    "2. Calcula cuántos productos están dentro de la tolerancia\n",
    "3. Calcula el porcentaje de productos aprobados\n",
    "4. Identifica el peso promedio real de producción\n",
    "5. Encuentra el producto más alejado del peso objetivo (en valor absoluto)\n"
   ]
  },
  {
   "cell_type": "markdown",
   "metadata": {},
   "source": [
    "## Ejercicio 8: Análisis de Tráfico Web\n",
    "\n",
    "Tienes un sitio web y has registrado las visitas diarias durante 4 semanas (28 días). También tienes datos de cuántas de esas visitas resultaron en ventas.\n",
    "\n",
    "**Datos:**\n",
    "- Visitas diarias: genera números aleatorios entre 100 y 500 visitas\n",
    "- Tasa de conversión: cada día entre el 2% y 8% de las visitas se convierten en ventas\n",
    "- Valor promedio por venta: 25€\n",
    "\n",
    "**Tareas:**\n",
    "1. Simula las visitas diarias durante 28 días\n",
    "2. Simula las tasas de conversión diarias (entre 0.02 y 0.08)\n",
    "3. Calcula las ventas diarias (visitas * tasa_conversión)\n",
    "4. Calcula los ingresos diarios (ventas * 25€)\n",
    "5. Identifica el día con más ingresos\n",
    "6. Calcula el total de ingresos del mes\n",
    "7. Calcula el promedio de visitas y ventas por semana (4 semanas de 7 días)"
   ]
  },
  {
   "cell_type": "markdown",
   "metadata": {},
   "source": [
    "## Ejercicio 9: Análisis de Encuesta de Satisfacción\n",
    "\n",
    "Has realizado una encuesta de satisfacción a 100 clientes. Cada cliente valoró 5 aspectos de tu servicio del 1 al 5:\n",
    "1. Calidad del producto\n",
    "2. Atención al cliente\n",
    "3. Tiempo de entrega\n",
    "4. Precio\n",
    "5. Experiencia general\n",
    "\n",
    "Algunos clientes no respondieron todas las preguntas (valores NaN).\n",
    "\n",
    "**Tareas:**\n",
    "1. Crea una matriz 100x5 con valoraciones aleatorias del 1 al 5\n",
    "2. Introduce aleatoriamente 20 valores NaN en la matriz\n",
    "3. Calcula la puntuación media de cada aspecto (ignorando NaN)\n",
    "4. Calcula cuántos clientes dieron la máxima puntuación (5) en cada aspecto\n",
    "5. Identifica qué aspecto tiene peor valoración media\n",
    "6. Calcula el porcentaje de respuestas completadas (no NaN)"
   ]
  },
  {
   "cell_type": "markdown",
   "metadata": {},
   "source": [
    "## Ejercicio 10: Gestión de una Liga de Fútbol\n",
    "\n",
    "Eres el encargado de gestionar una liga de fútbol con 8 equipos. Cada equipo ha jugado 14 partidos (ida y vuelta contra cada rival).\n",
    "\n",
    "Tienes los siguientes datos de cada equipo:\n",
    "- Partidos ganados\n",
    "- Partidos empatados\n",
    "- Partidos perdidos\n",
    "- Goles a favor\n",
    "- Goles en contra\n",
    "\n",
    "Sistema de puntos: Victoria = 3 puntos, Empate = 1 punto, Derrota = 0 puntos\n",
    "\n",
    "**Tareas:**\n",
    "1. Simula los datos de los 8 equipos de forma coherente (ganados + empatados + perdidos = 14)\n",
    "2. Calcula los puntos de cada equipo\n",
    "3. Calcula la diferencia de goles de cada equipo (goles a favor - goles en contra)\n",
    "4. Ordena la clasificación por puntos (y por diferencia de goles en caso de empate)\n",
    "5. Identifica al líder, al subcampeón y a los equipos en puestos de descenso (últimos 2)\n",
    "6. Calcula el promedio de goles por partido de la liga"
   ]
  }
 ],
 "metadata": {
  "kernelspec": {
   "display_name": "Python 3",
   "language": "python",
   "name": "python3"
  },
  "language_info": {
   "codemirror_mode": {
    "name": "ipython",
    "version": 3
   },
   "file_extension": ".py",
   "mimetype": "text/x-python",
   "name": "python",
   "nbconvert_exporter": "python",
   "pygments_lexer": "ipython3",
   "version": "3.12.3"
  }
 },
 "nbformat": 4,
 "nbformat_minor": 4
}
