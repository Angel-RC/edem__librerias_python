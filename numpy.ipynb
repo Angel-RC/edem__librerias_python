{
  "cells": [
    {
      "cell_type": "markdown",
      "metadata": {
        "id": "4mIfjK5Ovs1S"
      },
      "source": [
        "# Numpy\n",
        "\n",
        "NumPy es el paquete fundamental para la computación científica en Python. Es una librería de Python que proporciona un objeto array multidimensional,  y una serie de rutinas para operaciones rápidas sobre arrays, incluyendo operaciones matemáticas, lógicas, manipulación de formas, ordenación, selección, álgebra lineal básica, operaciones estadísticas básicas, simulación aleatoria y mucho más.\n",
        "\n",
        "Existen varias diferencias importantes entre los arrays de NumPy y las listas estándar de Python:\n",
        "\n",
        "- Los arrays de NumPy tienen un tamaño fijo en el momento de su creación, a diferencia de las listas de Python (que pueden crecer dinámicamente). Si se cambia el tamaño de una matriz NumPy, se creará un nuevo array y se borrará el original.\n",
        "\n",
        "- Los elementos de un array de NumPy deben ser todos del mismo tipo de datos y, por tanto, tendrán el mismo tamaño en memoria.\n",
        "\n",
        "- Los arrays de NumPy facilitan las operaciones matemáticas avanzadas y otros tipos de operaciones con grandes cantidades de datos. Normalmente, estas operaciones se ejecutan de forma más eficiente y con menos código que con las listas incorporadas en Python.\n",
        "\n",
        "- Una bateria creciente de paquetes científicos y matemáticos basados en Python utilizan arrays de NumPy; aunque normalmente admiten la entrada de listas de Python, convierten dicha entrada en arrays de NumPy antes de procesarla, y a menudo dan como salida arrays de NumPy. En otras palabras, para utilizar eficientemente gran parte del software científico/matemático actual basado en Python, no basta con saber utilizar listas, sino que también hay que saber utilizar los arrays de NumPy.\n",
        "\n",
        "- Un array puede ser de una dimensión (como una lista), de dos dimensiones (como una matriz) o incluso de más dimensiones.\n",
        "\n",
        "\n",
        "![arrays de distintas dimensiones](https://www.pythontutorial.net/wp-content/uploads/2022/08/what-is-numpy-1024x572.png)\n",
        "\n",
        "### Creación de arrays"
      ]
    },
    {
      "cell_type": "code",
      "execution_count": 2,
      "metadata": {
        "id": "0ZzTpUgRvoYd"
      },
      "outputs": [],
      "source": [
        "import numpy as np\n"
      ]
    },
    {
      "cell_type": "code",
      "execution_count": 3,
      "metadata": {
        "colab": {
          "base_uri": "https://localhost:8080/"
        },
        "id": "IUlgqA-h5eQ4",
        "outputId": "1b148233-39a8-4dc9-a9d2-86d849f2c407"
      },
      "outputs": [
        {
          "name": "stdout",
          "output_type": "stream",
          "text": [
            "Creacion de array con lista (se especifican los valores): [1 2 3]\n",
            "Creacion de array con arange (valores spaciados en un intervalo): [1 2 3 4 5 6 7 8 9]\n",
            "Creacion de array con linspace (valores espaciados en un intervalo): [ 1.  2.  3.  4.  5.  6.  7.  8.  9. 10.]\n",
            "Creacion de array con zeros (todos los valores son 0): [0 0 0 0 0]\n",
            "Creacion de array con ones (todos los valores son 1): [1 1 1 1 1]\n"
          ]
        }
      ],
      "source": [
        "# ARRAYS: FORMAS DE CREACION ---\n",
        "\n",
        "print(f\"Creacion de array con lista (se especifican los valores): {np.array([1,2,3])}\")\n",
        "\n",
        "print(f\"Creacion de array con arange (valores spaciados en un intervalo): {np.arange(start = 1, stop = 10, step = 1)}\")\n",
        "\n",
        "print(f\"Creacion de array con linspace (valores espaciados en un intervalo): {np.linspace(start = 1, stop = 10, num = 10)}\")\n",
        "\n",
        "print(f\"Creacion de array con zeros (todos los valores son 0): {np.zeros(shape = 5, dtype=int)}\")\n",
        "\n",
        "print(f\"Creacion de array con ones (todos los valores son 1): {np.ones(5, dtype=int)}\")\n",
        "\n"
      ]
    },
    {
      "cell_type": "code",
      "execution_count": 4,
      "metadata": {
        "colab": {
          "base_uri": "https://localhost:8080/"
        },
        "id": "lCqbc41QV43j",
        "outputId": "0566015f-f9cf-4815-ae2f-18c68355c4db"
      },
      "outputs": [
        {
          "name": "stdout",
          "output_type": "stream",
          "text": [
            "Así se vería la matriz_a en numpy: \n",
            " [[1, 2], [1, 2]]\n",
            "Así se vería la matriz_b en numpy: \n",
            " [[4, 5], [4, 5]]\n",
            "Así se vería la matriz_a en numpy: \n",
            " [[1 2]\n",
            " [1 2]]\n",
            "Así se vería la matriz_b en numpy: \n",
            " [[4 5]\n",
            " [4 5]]\n"
          ]
        }
      ],
      "source": [
        "# MATRICES: ---\n",
        "lista_a = [1, 2]\n",
        "lista_b = [4, 5]\n",
        "\n",
        "matriz_a_con_listas = [lista_a, lista_a]\n",
        "matriz_b_con_listas = [lista_b, lista_b]\n",
        "\n",
        "matriz_a_con_arrays = np.array([lista_a, lista_a])\n",
        "matriz_b_con_arrays = np.array([lista_b, lista_b])\n",
        "\n",
        "print(f\"Así se vería la matriz_a en numpy: \\n {matriz_a_con_listas}\")\n",
        "print(f\"Así se vería la matriz_b en numpy: \\n {matriz_b_con_listas}\")\n",
        "\n",
        "print(f\"Así se vería la matriz_a en numpy: \\n {matriz_a_con_arrays}\")\n",
        "print(f\"Así se vería la matriz_b en numpy: \\n {matriz_b_con_arrays}\")"
      ]
    },
    {
      "cell_type": "markdown",
      "metadata": {
        "id": "1u-aRY9yczxf"
      },
      "source": [
        "### Operaciones con arrays"
      ]
    },
    {
      "cell_type": "code",
      "execution_count": 5,
      "metadata": {
        "colab": {
          "base_uri": "https://localhost:8080/"
        },
        "id": "O3iUTqwsy2u1",
        "outputId": "b3eedcb4-5d3a-4d3e-8fad-0d65480fbaa3"
      },
      "outputs": [
        {
          "name": "stdout",
          "output_type": "stream",
          "text": [
            "Sumamos las listas: [1, 2, 4, 5]\n",
            "Sumamos los arrays: [5 7]\n"
          ]
        }
      ],
      "source": [
        "# ARRAYS: OPERACION SUMA ----\n",
        "lista_a = [1, 2]\n",
        "lista_b = [4, 5]\n",
        "\n",
        "array_a = np.array(lista_a)\n",
        "array_b = np.array(lista_b)\n",
        "\n",
        "print(f\"Sumamos las listas: {lista_a + lista_b}\")\n",
        "print(f\"Sumamos los arrays: {array_a + array_b}\")\n",
        "\n",
        "# Si quiero que las listas se sumen como los arrays\n",
        "# print(f\"Sumando las listas como si fuesen arrays: {[a + b for a, b in zip(lista_a, lista_b)]}\")\n",
        "\n",
        "# Si quiero que los arrays se sumen como las listas\n",
        "# print(f\"Si queremos concatenar los arrays como las listas: {np.concatenate((array_a, array_b))}\")"
      ]
    },
    {
      "cell_type": "code",
      "execution_count": 6,
      "metadata": {
        "colab": {
          "base_uri": "https://localhost:8080/",
          "height": 211
        },
        "id": "d_cmD9RzT0kK",
        "outputId": "4050c566-4a3f-49d5-ea17-b8153d6f39a8"
      },
      "outputs": [
        {
          "name": "stdout",
          "output_type": "stream",
          "text": [
            "Multiplicamos los arrays: [ 4 10]\n",
            "Multiplicamos las listas como si fuesen arrays: [4, 10]\n"
          ]
        }
      ],
      "source": [
        "# ARRAYS: OPERACION MULTIPLICACION ---\n",
        "\n",
        "\n",
        "# print(f\"Multiplicamos las listas: {lista_a * lista_b}\")  #! Esto dara error ya que no se pueden multiplicar listas por defecto\n",
        "\n",
        "print(f\"Multiplicamos los arrays: {array_a * array_b}\")\n",
        "print(f\"Multiplicamos las listas como si fuesen arrays: {[a * b for a, b in zip(lista_a, lista_b)]}\")\n"
      ]
    },
    {
      "cell_type": "code",
      "execution_count": 7,
      "metadata": {
        "colab": {
          "base_uri": "https://localhost:8080/"
        },
        "id": "hXg-Mi70W1yH",
        "outputId": "e91a8392-1e4c-483f-8051-08ad44387d16"
      },
      "outputs": [
        {
          "name": "stdout",
          "output_type": "stream",
          "text": [
            "Así se vería la multiplicacion usando arrays: \n",
            " [[ 4 10]\n",
            " [ 4 10]]\n",
            "Así se vería la multiplicacion usando listas: \n",
            " [[4, 10], [4, 10]]\n"
          ]
        }
      ],
      "source": [
        "# MATRICES: OPERACION MULTIPLICACION ---\n",
        "\n",
        "resultado_con_arrays = matriz_a_con_arrays * matriz_b_con_arrays\n",
        "print(f\"Así se vería la multiplicacion usando arrays: \\n {resultado_con_arrays}\")\n",
        "\n",
        "\n",
        "resultado_con_listas = [[0 for _ in range(len(matriz_b_con_listas[0]))] for _ in range(len(matriz_a_con_listas))]\n",
        "for i in range(len(matriz_a_con_listas)):  # Filas de matriz_a\n",
        "  for j in range(len(matriz_b_con_listas[0])):\n",
        "    resultado_con_listas[i][j] = matriz_a_con_listas[i][j] * matriz_b_con_listas[i][j]\n",
        "\n",
        "print(f\"Así se vería la multiplicacion usando listas: \\n {resultado_con_listas}\")\n",
        "\n"
      ]
    },
    {
      "cell_type": "code",
      "execution_count": 8,
      "metadata": {
        "colab": {
          "base_uri": "https://localhost:8080/"
        },
        "id": "xp9-D28mYn9S",
        "outputId": "c927ddf3-888f-4eb0-abc9-37f4be89204d"
      },
      "outputs": [
        {
          "name": "stdout",
          "output_type": "stream",
          "text": [
            "Multiplicamos matriz_a_con_arrays con matriz_b_con_arrays:\n",
            " [[12 15]\n",
            " [12 15]]\n",
            "Multiplicamos matriz_b_con_arrays con matriz_a_con_arrays:\n",
            " [[ 9 18]\n",
            " [ 9 18]]\n"
          ]
        }
      ],
      "source": [
        "# MATRICES: OPERACION MULTIPLICACION DOT ---\n",
        "\n",
        "print(f\"Multiplicamos matriz_a_con_arrays con matriz_b_con_arrays:\\n {np.dot(matriz_a_con_arrays, matriz_b_con_arrays)}\")\n",
        "print(f\"Multiplicamos matriz_b_con_arrays con matriz_a_con_arrays:\\n {np.dot(matriz_b_con_arrays, matriz_a_con_arrays)}\")\n",
        "\n"
      ]
    },
    {
      "cell_type": "code",
      "execution_count": 9,
      "metadata": {
        "colab": {
          "base_uri": "https://localhost:8080/"
        },
        "id": "PTBBkuf3czxg",
        "outputId": "5a65b336-de6f-4438-c8ab-b3cd2dc424e3"
      },
      "outputs": [
        {
          "name": "stdout",
          "output_type": "stream",
          "text": [
            "Sumamos 10 a todos los elementos de la matriz:\n",
            " [[11 12]\n",
            " [11 12]]\n",
            "Multiplicamos por 10 todos los elementos de la matriz:\n",
            " [[10 20]\n",
            " [10 20]]\n",
            "Calculamos la raiz cuadrada de todos los elementos de la matriz:\n",
            " [[1.         1.41421356]\n",
            " [1.         1.41421356]]\n",
            "Calculamos el logaritmo de todos los elementos de la matriz:\n",
            " [[0.         0.69314718]\n",
            " [0.         0.69314718]]\n",
            "Calculamos el seno de todos los elementos de la matriz:\n",
            " [[0.84147098 0.90929743]\n",
            " [0.84147098 0.90929743]]\n"
          ]
        }
      ],
      "source": [
        "# MATRICES: OPERACIONES GENERICAS ---\n",
        "\n",
        "print(f\"Sumamos 10 a todos los elementos de la matriz:\\n {matriz_a_con_arrays + 10}\")\n",
        "print(f\"Multiplicamos por 10 todos los elementos de la matriz:\\n {matriz_a_con_arrays * 10}\")\n",
        "print(f\"Calculamos la raiz cuadrada de todos los elementos de la matriz:\\n {np.sqrt(matriz_a_con_arrays)}\")\n",
        "print(f\"Calculamos el logaritmo de todos los elementos de la matriz:\\n {np.log(matriz_a_con_arrays)}\")\n",
        "print(f\"Calculamos el seno de todos los elementos de la matriz:\\n {np.sin(matriz_a_con_arrays)}\")\n"
      ]
    },
    {
      "cell_type": "markdown",
      "metadata": {
        "id": "BOFCg3fgczxg"
      },
      "source": [
        "### Propiedades"
      ]
    },
    {
      "cell_type": "code",
      "execution_count": 10,
      "metadata": {
        "colab": {
          "base_uri": "https://localhost:8080/"
        },
        "id": "k3AONpL76ufi",
        "outputId": "df19c841-30de-4bb1-b29f-814e30643b68"
      },
      "outputs": [
        {
          "name": "stdout",
          "output_type": "stream",
          "text": [
            "array_a:\n",
            " [[ 1.  2.  3.  4.]\n",
            " [ 2.  3.  4. nan]] \n",
            "\n",
            "Size: 8\n",
            "len: 2\n",
            "Shape: (2, 4)\n",
            "Matriz traspuesta:\n",
            " [[ 1.  2.]\n",
            " [ 2.  3.]\n",
            " [ 3.  4.]\n",
            " [ 4. nan]]\n",
            "Shape de la matriz traspuesta: (4, 2)\n",
            "Cambiamos las dimensiones a (1,8): [[ 1.  2.  3.  4.  2.  3.  4. nan]]\n",
            "Datatype: float64\n",
            "array como float: \n",
            " [[ 1.  2.  3.  4.]\n",
            " [ 2.  3.  4. nan]]\n",
            "Datatype: float64\n",
            "\n",
            "List: [[1.0, 2.0, 3.0, 4.0], [2.0, 3.0, 4.0, nan]]\n",
            "<class 'list'>\n"
          ]
        }
      ],
      "source": [
        "# ARRAYS: PROPIEDADES ---\n",
        "\n",
        "array_a = np.array([[1, 2, 3, 4], [2,3,4,np.nan]])\n",
        "\n",
        "print(f\"array_a:\\n {array_a} \\n\")\n",
        "\n",
        "print(\"Size:\", array_a.size)\n",
        "\n",
        "# check len of the array\n",
        "print(\"len:\", len(array_a))\n",
        "\n",
        "# check shape of the array\n",
        "print(\"Shape:\", array_a.shape)\n",
        "\n",
        "print(f\"Matriz traspuesta:\\n {array_a.T}\")\n",
        "\n",
        "print(f\"Shape de la matriz traspuesta: {array_a.T.shape}\")\n",
        "\n",
        "print(f\"Cambiamos las dimensiones a (1,8): {array_a.reshape(1, 8)}\")\n",
        "\n",
        "# check dtype of the array elements\n",
        "print(\"Datatype:\", array_a.dtype)\n",
        "\n",
        "# change the dtype to 'float64'\n",
        "array_a = array_a.astype('float64')\n",
        "print(f\"array como float: \\n {array_a}\")\n",
        "print(\"Datatype:\", array_a.dtype)\n",
        "\n",
        "# convert array to list\n",
        "lis = array_a.tolist()\n",
        "print(\"\\nList:\", lis)\n",
        "print(type(lis))"
      ]
    },
    {
      "cell_type": "code",
      "execution_count": 24,
      "metadata": {
        "colab": {
          "base_uri": "https://localhost:8080/"
        },
        "id": "rl3HZjUnczxg",
        "outputId": "6052db08-fc7d-400f-b553-15a1ba66f366"
      },
      "outputs": [
        {
          "name": "stdout",
          "output_type": "stream",
          "text": [
            "Array : \n",
            "[[ 1  2  3  4]\n",
            " [ 5  6  7  8]\n",
            " [ 9 10 11 12]]\n",
            "\n",
            "Array tras borrar elementos: \n",
            "[[ 1  3  4]\n",
            " [ 5  7  8]\n",
            " [ 9 11 12]]\n",
            "Array tras insertar elementos: \n",
            "[[ 1  2  3  4]\n",
            " [ 6  6  6  6]\n",
            " [ 5  6  7  8]\n",
            " [ 9 10 11 12]]\n",
            "Array tras añadir elementos al final: \n",
            "[[ 1  2  3  4]\n",
            " [ 5  6  7  8]\n",
            " [ 9 10 11 12]\n",
            " [ 6  6  6  6]]\n"
          ]
        }
      ],
      "source": [
        "arr = np.array([[1,2,3,4], [5,6,7,8], [9,10,11,12]])\n",
        "print(f\"Array : \\n{arr}\\n\")\n",
        "\n",
        "print(f\"Array tras borrar elementos: \\n{np.delete(arr, 1, axis = 1)}\")\n",
        "print(f\"Array tras insertar elementos: \\n{np.insert(arr, 1, 6, axis = 0)}\")\n",
        "print(f\"Array tras añadir elementos al final: \\n{np.append(arr, [[6,6,6,6]], axis = 0)}\")\n"
      ]
    },
    {
      "cell_type": "code",
      "execution_count": 23,
      "metadata": {},
      "outputs": [
        {
          "data": {
            "text/plain": [
              "array([[ 1,  2,  3,  4,  6],\n",
              "       [ 5,  6,  7,  8,  6],\n",
              "       [ 9, 10, 11, 12,  6]])"
            ]
          },
          "execution_count": 23,
          "metadata": {},
          "output_type": "execute_result"
        }
      ],
      "source": [
        "## Ejercicio: Usar append para añadir una columna al final\n",
        "## Solución:\n",
        "np.append(arr, [[6],[6],[6]], axis = 1)"
      ]
    },
    {
      "cell_type": "code",
      "execution_count": 25,
      "metadata": {
        "colab": {
          "base_uri": "https://localhost:8080/"
        },
        "id": "dxdykGN-_my8",
        "outputId": "d4251b9c-44e2-4bc5-99e7-879716d20168"
      },
      "outputs": [
        {
          "name": "stdout",
          "output_type": "stream",
          "text": [
            "Array:\n",
            " [1 4 2 3]\n",
            "Array ordenado de menor a mayor:\n",
            " [1 2 3 4]\n",
            "¿Los valores son mayores que 2?:\n",
            " [False False  True  True]\n",
            "Filtrar elementos mayores que 2:\n",
            " [3 4]\n",
            "Filtrar elementos mayores que 2 y menores que 4:\n",
            " [3]\n"
          ]
        }
      ],
      "source": [
        "# ARRAYS: FILTRAR DATOS ---\n",
        "\n",
        "array_a = np.array([1, 4, 2, 3])\n",
        "print(f\"Array:\\n {array_a}\")\n",
        "\n",
        "array_a.sort()\n",
        "print(f\"Array ordenado de menor a mayor:\\n {array_a}\")\n",
        "\n",
        "print(f\"¿Los valores son mayores que 2?:\\n {array_a > 2}\")\n",
        "\n",
        "print(f\"Filtrar elementos mayores que 2:\\n {array_a[array_a > 2]}\")\n",
        "print(f\"Filtrar elementos mayores que 2 y menores que 4:\\n {array_a[(array_a > 2) & (array_a < 4)]}\")\n"
      ]
    },
    {
      "cell_type": "code",
      "execution_count": 26,
      "metadata": {
        "colab": {
          "base_uri": "https://localhost:8080/"
        },
        "id": "0lNkGjUqEiAT",
        "outputId": "fb8db7ed-318a-4f36-f9a3-a6147d5d2e7c"
      },
      "outputs": [
        {
          "name": "stdout",
          "output_type": "stream",
          "text": [
            "array:\n",
            "[[ 1.  -4. ]\n",
            " [12.   3. ]\n",
            " [ 7.2  5. ]]\n",
            "\n",
            "Elementos individuales: \n",
            "Elemento (0,1): -4.0 \n",
            "Elemento (2,1): 5.0\n",
            "\n",
            "Vector de elementos de la fila 1: \n",
            "[12.  3.]\n",
            "\n",
            "Vector de elementos de la columna 0: \n",
            "[ 1.  12.   7.2]\n",
            "\n",
            "Submatriz de 2x2 con las primeras dos filas: \n",
            "[[ 1. -4.]\n",
            " [12.  3.]]\n",
            "\n"
          ]
        }
      ],
      "source": [
        "# MATRICES: FILTRAR DATOS ---\n",
        "\n",
        "lista_de_listas=[ [1  ,-4],\n",
        "                  [12 , 3],\n",
        "                  [7.2, 5]]\n",
        "\n",
        "a = np.array(lista_de_listas)\n",
        "\n",
        "print(f\"array:\\n{a}\\n\")\n",
        "\n",
        "print(f\"Elementos individuales: \\nElemento (0,1): {a[0,1]} \\nElemento (2,1): {a[2,1]}\\n\")\n",
        "\n",
        "print(f\"Vector de elementos de la fila 1: \\n{a[1,:]}\\n\")\n",
        "\n",
        "print(f\"Vector de elementos de la columna 0: \\n{a[:,0]}\\n\")\n",
        "\n",
        "print(f\"Submatriz de 2x2 con las primeras dos filas: \\n{a[0:2,:]}\\n\")"
      ]
    },
    {
      "cell_type": "markdown",
      "metadata": {
        "id": "bP3RCHaZC6zH"
      },
      "source": [
        "### Números aleatorios\n",
        "\n",
        "Los números aleatorios son aquellos que no siguen un patrón predecible. Imagina lanzar un dado: cada vez que lo lanzas, el resultado es un número aleatorio entre 1 y 6, ya que no puedes predecir cuál saldrá. En programación, necesitamos generar números aleatorios para cosas como:\n",
        "\n",
        "- Simulaciones.\n",
        "- Modelos estadísticos.\n",
        "- Pruebas y experimentos controlados.\n",
        "\n",
        "Es aqui donde numpy nos puede ayudar, ya que tiene un módulo llamado __numpy.random__, que nos permite generar números aleatorios de diferentes formas. Esto es muy útil si queremos hacer simulaciones o crear datos ficticios para probar cosas."
      ]
    },
    {
      "cell_type": "code",
      "execution_count": 13,
      "metadata": {
        "colab": {
          "base_uri": "https://localhost:8080/"
        },
        "id": "ZvwO0OAzA7XJ",
        "outputId": "0b58db28-c1ca-4932-f8e0-160c5d891521"
      },
      "outputs": [
        {
          "name": "stdout",
          "output_type": "stream",
          "text": [
            "Creacion de array con random.rand (valores aleatorios entre 0 y 1): [0.70602063 0.27012731 0.06128212 0.81147926 0.49341054]\n"
          ]
        }
      ],
      "source": [
        "print(f\"Creacion de array con random.rand (valores aleatorios entre 0 y 1): {np.random.rand(5)}\")\n"
      ]
    },
    {
      "cell_type": "markdown",
      "metadata": {
        "id": "id-lOgq8GzqJ"
      },
      "source": [
        "Con esto somos capaces de generar números aleatorios, pero en ocasiones queremos generar números aleatorios con ciertos requisitos o restricciones. Para eso el modulo random tiene una serie de funciones para que usemosla que más nos interese."
      ]
    },
    {
      "cell_type": "code",
      "execution_count": 28,
      "metadata": {
        "colab": {
          "base_uri": "https://localhost:8080/"
        },
        "id": "lMxb07X_FSkc",
        "outputId": "bab1eb34-41d8-441e-8d33-062607c9ec23"
      },
      "outputs": [
        {
          "name": "stdout",
          "output_type": "stream",
          "text": [
            "Cara del dado: [3]\n"
          ]
        }
      ],
      "source": [
        "# Genera un número entero aleatorio entre 1 y 6 (como un dado)\n",
        "numero_dado = np.random.randint(low = 1, high = 7, size = 1)\n",
        "print(f\"Cara del dado: {numero_dado}\")"
      ]
    },
    {
      "cell_type": "code",
      "execution_count": 30,
      "metadata": {
        "colab": {
          "base_uri": "https://localhost:8080/"
        },
        "id": "aI8wWvGHHxv2",
        "outputId": "0ea8a5cf-c4eb-47c7-c637-06004c1e7536"
      },
      "outputs": [
        {
          "name": "stdout",
          "output_type": "stream",
          "text": [
            "Numeros normales:\n",
            " [ 0.96479666 -1.69773011  1.51508443 -0.64087379  1.15499253  0.15638254\n",
            "  0.23569756  1.30444073 -2.58731904  0.56517325]\n",
            "\n",
            "Numeros binomiales:\n",
            " [2 5 3 8 7 3 6 7 5 5]\n"
          ]
        }
      ],
      "source": [
        "# Genera 10 números aleatorios con distribución normal (media=0, desviación estándar=1)\n",
        "numeros_normales = np.random.normal(loc = 0, scale = 1, size=10)\n",
        "print(f\"Numeros normales:\\n {numeros_normales}\\n\")\n",
        "\n",
        "\n",
        "# Genera un números aleatorio con distribución binomial (n_observaciones=10, probbilidad de exito=0.5)\n",
        "numeros_binomiales = np.random.binomial(n = 10, p = 0.5, size=10)\n",
        "print(f\"Numeros binomiales:\\n {numeros_binomiales}\")"
      ]
    },
    {
      "cell_type": "markdown",
      "metadata": {},
      "source": [
        "**Ejercicio:**\n",
        "\n",
        "Dada una serie de alumnos, vamos a obtener una ordenación aleatoria."
      ]
    },
    {
      "cell_type": "code",
      "execution_count": 31,
      "metadata": {
        "colab": {
          "base_uri": "https://localhost:8080/"
        },
        "id": "TTd89A0QLCoH",
        "outputId": "926c89e8-ce97-4764-e6b8-bd6d7a80d71f"
      },
      "outputs": [],
      "source": [
        "\n",
        "# Lista de 10 alumnos\n",
        "alumnos = ['Alumno1', 'Alumno2', 'Alumno3', 'Alumno4', 'Alumno5',\n",
        "           'Alumno6', 'Alumno7', 'Alumno8', 'Alumno9', 'Alumno10']\n"
      ]
    },
    {
      "cell_type": "code",
      "execution_count": 41,
      "metadata": {
        "id": "Ti5Aszimczxh"
      },
      "outputs": [
        {
          "name": "stdout",
          "output_type": "stream",
          "text": [
            "['Alumno10', 'Alumno2', 'Alumno6', 'Alumno8', 'Alumno1', 'Alumno9', 'Alumno7', 'Alumno5', 'Alumno4', 'Alumno3']\n"
          ]
        }
      ],
      "source": [
        "## Solucion 1: Hacerlo con np.random.randint seleccionando alumnos aleatorios de uno en uno\n",
        "\n",
        "# Lista para almacenar el resultado de la selección aleatoria\n",
        "alumnos_seleccionados = []\n",
        "\n",
        "# Selección aleatoria de alumnos usando random.randint\n",
        "while len(alumnos_seleccionados) < len(alumnos):\n",
        "    # Genera un índice aleatorio entre 0 y el número de alumnos - 1\n",
        "    indice_aleatorio = np.random.randint(0, len(alumnos))\n",
        "\n",
        "    # Si el alumno no ha sido seleccionado antes, lo añadimos a la lista\n",
        "    if alumnos[indice_aleatorio] not in alumnos_seleccionados:\n",
        "        alumnos_seleccionados.append(alumnos[indice_aleatorio])\n",
        "\n",
        "# Imprimimos la lista de alumnos seleccionados aleatoriamente\n",
        "print(alumnos_seleccionados)\n"
      ]
    },
    {
      "cell_type": "code",
      "execution_count": null,
      "metadata": {
        "colab": {
          "base_uri": "https://localhost:8080/"
        },
        "id": "am6hdMEEMGyx",
        "outputId": "678cfb86-3f0e-40be-fce1-9a7e0ea5f5f7"
      },
      "outputs": [
        {
          "name": "stdout",
          "output_type": "stream",
          "text": [
            "['Alumno9', 'Alumno3']\n"
          ]
        }
      ],
      "source": [
        "## Solucion 2: Hacerlo con np.random.choice seleccionando alumnos aleatoriamente sin repeticion\n",
        "\n",
        "# Lista de 10 alumnos\n",
        "alumnos = ['Alumno1', 'Alumno2', 'Alumno3', 'Alumno4', 'Alumno5',\n",
        "           'Alumno6', 'Alumno7', 'Alumno8', 'Alumno9', 'Alumno10']\n",
        "\n",
        "# Número de alumnos\n",
        "n_alumnos = len(alumnos)\n",
        "\n",
        "# Genera una lista de índices aleatorios sin repetir usando np.random.choice\n",
        "indices_aleatorios = np.random.choice(n_alumnos, size=2, replace=False)\n",
        "\n",
        "# Selecciona a los alumnos basándote en los índices aleatorios generados\n",
        "alumnos_seleccionados = [alumnos[i] for i in indices_aleatorios]\n",
        "\n",
        "# Imprimir la lista de alumnos seleccionados aleatoriamente\n",
        "print(alumnos_seleccionados)"
      ]
    },
    {
      "cell_type": "code",
      "execution_count": null,
      "metadata": {
        "colab": {
          "base_uri": "https://localhost:8080/"
        },
        "id": "j_gjRqBiJTOY",
        "outputId": "40ddcd23-64fd-4b78-d52f-e9d9a5049d4e"
      },
      "outputs": [
        {
          "name": "stdout",
          "output_type": "stream",
          "text": [
            "['Alumno9' 'Alumno2' 'Alumno6' 'Alumno1' 'Alumno8' 'Alumno3' 'Alumno10'\n",
            " 'Alumno5' 'Alumno4' 'Alumno7']\n"
          ]
        }
      ],
      "source": [
        "## Solucion 3: Hacerlo con np.random.permutation para ordenar de forma aleatoria los alumnos\n",
        "\n",
        "# np.random.seed(42)  #? Si queremos reproducibilidad, necesitamos una semilla\n",
        "\n",
        "alumnos = ['Alumno1', 'Alumno2', 'Alumno3', 'Alumno4', 'Alumno5',\n",
        "           'Alumno6', 'Alumno7', 'Alumno8', 'Alumno9', 'Alumno10']\n",
        "\n",
        "alumnos_aleatorios = np.random.permutation(alumnos)\n",
        "\n",
        "print(alumnos_aleatorios)"
      ]
    },
    {
      "cell_type": "markdown",
      "metadata": {},
      "source": [
        "Si queremos replicar los resultados aleatorios, debemos fijar una semilla, lo que nos permitirá que el proceso sea reproducible."
      ]
    },
    {
      "cell_type": "markdown",
      "metadata": {
        "id": "hw15KlesIxb5"
      },
      "source": [
        "### ¿Por qué es útil esto?\n",
        "\n",
        "- Simulaciones: Imagina que estás simulando el lanzamiento de un dado 100 veces. Puedes usar np.random.randint() para simularlo rápidamente.\n",
        "\n",
        "- Generación de datos ficticios: Si necesitas crear datos para practicar o probar un modelo, Numpy facilita la generación de números aleatorios que siguen patrones específicos (distribución normal, uniforme, etc.).\n",
        "\n",
        "- Pruebas y experimentos: En muchos experimentos, es útil generar datos aleatorios para probar hipótesis o ver cómo un sistema responde a entradas no predecibles.\n",
        "\n",
        "Numpy no solo genera números aleatorios, sino que te permite hacerlo de forma eficiente y en diferentes formas (arrays, matrices, distribuciones específicas). Esto es increíblemente útil cuando trabajamos con datos o simulaciones.\n",
        "\n",
        "### Funciones estadisticas\n",
        "\n",
        "Numpy nos permite calcular estadísticas sobre uestros datos, lo cual es útil para poder tener un mejor entendimiento de estos. A continuación veremos las más conocidas."
      ]
    },
    {
      "cell_type": "code",
      "execution_count": 42,
      "metadata": {
        "id": "zlwwPvEqczxi",
        "outputId": "592e8aef-3651-4509-95a7-b18662a377f3"
      },
      "outputs": [
        {
          "name": "stdout",
          "output_type": "stream",
          "text": [
            "Datos:\n",
            "[50.86970027 22.22650629 29.37891385 35.81459804 41.5310915  48.38971769\n",
            " 30.5903184  55.28014028 23.52799622 44.88297604 53.42820914 48.39449733\n",
            " 38.1056351  19.77786328 35.17687944 40.86646048 38.28101734 34.00339666\n",
            " 35.19488316 41.56737249 33.01807004 32.63258005 30.80546027 54.11020166\n",
            " 25.36411485 39.34515539 39.38427004 54.00601103 38.83371069 54.73471576\n",
            " 43.21114458 40.33390482 33.7635396  43.4079683  57.23322365 28.67031472\n",
            " 30.0073607  33.50730518 52.146435   41.17462977 36.67467475 42.07695086\n",
            " 48.13835674 30.21941479 31.36388355 37.89825563 45.28653588 30.54911083\n",
            " 54.83949218 35.11588942 35.16744401 40.23038073 38.42627778 25.19774435\n",
            " 35.47832529 26.48471826 43.95002919 28.3716562  40.23012958 32.24973048\n",
            " 32.67900492 36.86616689 30.90756619 59.39725226 45.40915515 39.21659937\n",
            " 39.92227086 43.69812211 32.16841712 35.17476224 47.15637609 36.5861889\n",
            " 33.3455125  45.15708005 36.7774698  45.65978263 38.15382457 46.25578597\n",
            " 46.57309196 37.24512608 24.72476879 39.53502693 43.20643437 40.05846522\n",
            " 46.95323983 49.1792101  31.01555833 43.5127252  28.0308272  35.9233089\n",
            " 44.94758113 34.23993313 66.07133399 43.24307378 40.12694221 38.51694141\n",
            " 41.3627375  42.31784728 46.85701275 42.54233065]\n",
            "\n",
            "Media de los datos: 39.416421438913055\n",
            "Suma de los datos: 3941.6421438913053\n",
            "Minimo valor de los datos: 19.777863278493356\n",
            "Maximo valor de los datos: 66.07133399132738\n",
            "Mediana de los datos: 39.28087737667127\n",
            "Percentil 75 de los datos: 44.89912731223607\n",
            "Desviacion estandard de los datos: 8.603715149290963\n"
          ]
        }
      ],
      "source": [
        "datos = np.random.normal(40, 10, 100)\n",
        "\n",
        "print(f\"Datos:\\n{datos}\\n\")\n",
        "print(f\"Media de los datos: {np.mean(datos)}\")\n",
        "print(f\"Suma de los datos: {np.sum(datos)}\")\n",
        "print(f\"Minimo valor de los datos: {np.min(datos)}\")\n",
        "print(f\"Maximo valor de los datos: {np.max(datos)}\")\n",
        "print(f\"Mediana de los datos: {np.median(datos)}\")\n",
        "print(f\"Percentil 75 de los datos: {np.percentile(datos, 75)}\")\n",
        "print(f\"Desviacion estandard de los datos: {np.std(datos)}\")"
      ]
    },
    {
      "cell_type": "code",
      "execution_count": 43,
      "metadata": {
        "id": "heAQf6cAczxi",
        "outputId": "42a0fa20-2d4c-4292-b42f-797adca345c8"
      },
      "outputs": [
        {
          "name": "stdout",
          "output_type": "stream",
          "text": [
            "Datos:\n",
            "[[1 2 3]\n",
            " [4 5 6]]\n",
            "\n",
            "Media de los datos: 3.5\n",
            "Suma de los datos: 21\n",
            "Minimo valor de los datos: 1\n",
            "Maximo valor de los datos: 6\n",
            "Mediana de los datos: 3.5\n",
            "Percentil 75 de los datos: 4.75\n",
            "Desviacion estandard de los datos: 1.707825127659933\n"
          ]
        }
      ],
      "source": [
        "datos = np.array([[1,2,3],[4,5,6]])\n",
        "\n",
        "print(f\"Datos:\\n{datos}\\n\")\n",
        "print(f\"Media de los datos: {np.mean(datos)}\")\n",
        "print(f\"Suma de los datos: {np.sum(datos)}\")\n",
        "print(f\"Minimo valor de los datos: {np.min(datos)}\")\n",
        "print(f\"Maximo valor de los datos: {np.max(datos)}\")\n",
        "print(f\"Mediana de los datos: {np.median(datos)}\")\n",
        "print(f\"Percentil 75 de los datos: {np.percentile(datos, 75)}\")\n",
        "print(f\"Desviacion estandard de los datos: {np.std(datos)}\")"
      ]
    },
    {
      "cell_type": "markdown",
      "metadata": {},
      "source": [
        "Vamos a complicar los cálculos un poco añaniendo valores nulos. Si tenemos valores nulos, Python no sabrá cálcular el máximo, ni minimo por ejemplo.\n",
        "En estas situaciones hay que decirle que lo calcule obviando los valores nulos"
      ]
    },
    {
      "cell_type": "code",
      "execution_count": 44,
      "metadata": {
        "colab": {
          "base_uri": "https://localhost:8080/"
        },
        "id": "GdpGqcinczxi",
        "outputId": "26205d83-4a5d-4af3-ec68-087928f59643"
      },
      "outputs": [
        {
          "name": "stdout",
          "output_type": "stream",
          "text": [
            "Datos:\n",
            "[[ 1.  2.  3.]\n",
            " [ 4.  5. nan]]\n",
            "\n",
            "Maximo valor de los datos: nan\n",
            "Maximo valor de los datos: 5.0\n",
            "Maximo valor de los datos: 5.0\n",
            "Maximo valor de los datos: 5.0\n"
          ]
        }
      ],
      "source": [
        "# Vamos a complicar esto un poco añadiendo valores nulos.\n",
        "# Veremos un ejemplo calculando el maximo\n",
        "\n",
        "\n",
        "datos = np.array([[1,2,3],[4,5,np.nan]])\n",
        "\n",
        "print(f\"Datos:\\n{datos}\\n\")\n",
        "\n",
        "print(f\"Maximo valor de los datos: {np.max(datos)}\") #! Esto dara como resultado un nan\n",
        "\n",
        "# Alternativas para lidiar con valores nulos\n",
        "print(f\"Maximo valor de los datos: {np.max(datos, where = ~np.isnan(datos), initial=-np.inf)}\")\n",
        "print(f\"Maximo valor de los datos: {np.nanmax(datos)}\")\n",
        "print(f\"Maximo valor de los datos: {np.max(datos[~np.isnan(datos)])}\") #! Esta forma fallara si queremos hacer los calculos en un eje"
      ]
    },
    {
      "cell_type": "markdown",
      "metadata": {},
      "source": [
        "*Ejercicio:*\n",
        "\n",
        "Vamos a simular tiradas del Catan para ver que números son más favorables. Una tirada consiste en lanzar 2 dados y sumar los resultados. Haz una simulación de 1.000 tiradas y mira que valores son más probables."
      ]
    },
    {
      "cell_type": "code",
      "execution_count": 60,
      "metadata": {},
      "outputs": [
        {
          "data": {
            "text/plain": [
              "{2: 31,\n",
              " 3: 51,\n",
              " 4: 90,\n",
              " 5: 124,\n",
              " 6: 119,\n",
              " 7: 167,\n",
              " 8: 129,\n",
              " 9: 120,\n",
              " 10: 86,\n",
              " 11: 58,\n",
              " 12: 25}"
            ]
          },
          "execution_count": 60,
          "metadata": {},
          "output_type": "execute_result"
        }
      ],
      "source": [
        "## Solución\n",
        "# Simulamos las tiradas\n",
        "tiradas = np.random.randint(low = 1, high = 7, size = (2, 1000))\n",
        "# Sumamos los dados\n",
        "suma_dados = np.sum(tiradas, axis = 0)\n",
        "# Contamos el numero de veces que aparece cada resultado\n",
        "unique, counts = np.unique(suma_dados, return_counts=True)\n",
        "dict(zip(unique, counts))"
      ]
    }
  ],
  "metadata": {
    "colab": {
      "provenance": []
    },
    "kernelspec": {
      "display_name": "Python 3",
      "name": "python3"
    },
    "language_info": {
      "codemirror_mode": {
        "name": "ipython",
        "version": 3
      },
      "file_extension": ".py",
      "mimetype": "text/x-python",
      "name": "python",
      "nbconvert_exporter": "python",
      "pygments_lexer": "ipython3",
      "version": "3.10.12"
    }
  },
  "nbformat": 4,
  "nbformat_minor": 0
}
