{
  "cells": [
    {
      "cell_type": "markdown",
      "metadata": {
        "id": "4mIfjK5Ovs1S"
      },
      "source": [
        "# Numpy\n",
        "\n",
        "NumPy es el paquete fundamental para la computación científica en Python. Es una librería de Python que proporciona un objeto array multidimensional,  y una serie de rutinas para operaciones rápidas sobre arrays, incluyendo operaciones matemáticas, lógicas, manipulación de formas, ordenación, selección, álgebra lineal básica, operaciones estadísticas básicas, simulación aleatoria y mucho más.\n",
        "\n",
        "Existen varias diferencias importantes entre los arrays de NumPy y las listas estándar de Python:\n",
        "\n",
        "- Los arrays de NumPy tienen un tamaño fijo en el momento de su creación, a diferencia de las listas de Python (que pueden crecer dinámicamente). Si se cambia el tamaño de una matriz NumPy, se creará un nuevo array y se borrará el original.\n",
        "\n",
        "- Los elementos de un array de NumPy deben ser todos del mismo tipo de datos y, por tanto, tendrán el mismo tamaño en memoria.\n",
        "\n",
        "- Los arrays de NumPy facilitan las operaciones matemáticas avanzadas y otros tipos de operaciones con grandes cantidades de datos. Normalmente, estas operaciones se ejecutan de forma más eficiente y con menos código que con las listas incorporadas en Python.\n",
        "\n",
        "- Una bateria creciente de paquetes científicos y matemáticos basados en Python utilizan arrays de NumPy; aunque normalmente admiten la entrada de listas de Python, convierten dicha entrada en arrays de NumPy antes de procesarla, y a menudo dan como salida arrays de NumPy. En otras palabras, para utilizar eficientemente gran parte del software científico/matemático actual basado en Python, no basta con saber utilizar listas, sino que también hay que saber utilizar los arrays de NumPy.\n",
        "\n",
        "- Un array puede ser de una dimensión (como una lista), de dos dimensiones (como una matriz) o incluso de más dimensiones.\n",
        "\n",
        "\n",
        "![arrays de distintas dimensiones](https://www.pythontutorial.net/wp-content/uploads/2022/08/what-is-numpy-1024x572.png)\n",
        "\n",
        "### Creación de arrays"
      ]
    },
    {
      "cell_type": "code",
      "execution_count": 1,
      "metadata": {
        "id": "0ZzTpUgRvoYd"
      },
      "outputs": [],
      "source": [
        "import numpy as np\n"
      ]
    },
    {
      "cell_type": "code",
      "execution_count": 2,
      "metadata": {
        "colab": {
          "base_uri": "https://localhost:8080/"
        },
        "id": "IUlgqA-h5eQ4",
        "outputId": "1b148233-39a8-4dc9-a9d2-86d849f2c407"
      },
      "outputs": [
        {
          "output_type": "stream",
          "name": "stdout",
          "text": [
            "Creacion de array con lista (se especifican los valores): [1 2 3]\n",
            "Creacion de array con arange (valores spaciados en un intervalo): [1 2 3 4 5 6 7 8 9]\n",
            "Creacion de array con linspace (valores espaciados en un intervalo): [ 1.  2.  3.  4.  5.  6.  7.  8.  9. 10.]\n",
            "Creacion de array con zeros (todos los valores son 0): [0 0 0 0 0]\n",
            "Creacion de array con ones (todos los valores son 1): [1 1 1 1 1]\n"
          ]
        }
      ],
      "source": [
        "# ARRAYS: FORMAS DE CREACION ---\n",
        "\n",
        "print(f\"Creacion de array con lista (se especifican los valores): {np.array([1,2,3])}\")\n",
        "\n",
        "print(f\"Creacion de array con arange (valores spaciados en un intervalo): {np.arange(start = 1, stop = 10, step = 1)}\")\n",
        "\n",
        "print(f\"Creacion de array con linspace (valores espaciados en un intervalo): {np.linspace(start = 1, stop = 10, num = 10)}\")\n",
        "\n",
        "print(f\"Creacion de array con zeros (todos los valores son 0): {np.zeros(shape = 5, dtype=int)}\")\n",
        "\n",
        "print(f\"Creacion de array con ones (todos los valores son 1): {np.ones(5, dtype=int)}\")\n",
        "\n"
      ]
    },
    {
      "cell_type": "code",
      "execution_count": 3,
      "metadata": {
        "colab": {
          "base_uri": "https://localhost:8080/"
        },
        "id": "lCqbc41QV43j",
        "outputId": "0566015f-f9cf-4815-ae2f-18c68355c4db"
      },
      "outputs": [
        {
          "output_type": "stream",
          "name": "stdout",
          "text": [
            "Así se vería la matriz_a en numpy: \n",
            " [[1, 2], [1, 2]]\n",
            "Así se vería la matriz_b en numpy: \n",
            " [[4, 5], [4, 5]]\n",
            "Así se vería la matriz_a en numpy: \n",
            " [[1 2]\n",
            " [1 2]]\n",
            "Así se vería la matriz_b en numpy: \n",
            " [[4 5]\n",
            " [4 5]]\n"
          ]
        }
      ],
      "source": [
        "# MATRICES: ---\n",
        "lista_a = [1, 2]\n",
        "lista_b = [4, 5]\n",
        "\n",
        "matriz_a_con_listas = [lista_a, lista_a]\n",
        "matriz_b_con_listas = [lista_b, lista_b]\n",
        "\n",
        "matriz_a_con_arrays = np.array([lista_a, lista_a])\n",
        "matriz_b_con_arrays = np.array([lista_b, lista_b])\n",
        "\n",
        "print(f\"Así se vería la matriz_a en numpy: \\n {matriz_a_con_listas}\")\n",
        "print(f\"Así se vería la matriz_b en numpy: \\n {matriz_b_con_listas}\")\n",
        "\n",
        "print(f\"Así se vería la matriz_a en numpy: \\n {matriz_a_con_arrays}\")\n",
        "print(f\"Así se vería la matriz_b en numpy: \\n {matriz_b_con_arrays}\")"
      ]
    },
    {
      "cell_type": "markdown",
      "metadata": {
        "id": "1u-aRY9yczxf"
      },
      "source": [
        "### Operaciones con arrays"
      ]
    },
    {
      "cell_type": "code",
      "execution_count": 4,
      "metadata": {
        "colab": {
          "base_uri": "https://localhost:8080/"
        },
        "id": "O3iUTqwsy2u1",
        "outputId": "b3eedcb4-5d3a-4d3e-8fad-0d65480fbaa3"
      },
      "outputs": [
        {
          "output_type": "stream",
          "name": "stdout",
          "text": [
            "Sumamos las listas: [1, 2, 4, 5]\n",
            "Sumamos los arrays: [5 7]\n"
          ]
        }
      ],
      "source": [
        "# ARRAYS: OPERACION SUMA ----\n",
        "lista_a = [1, 2]\n",
        "lista_b = [4, 5]\n",
        "\n",
        "array_a = np.array(lista_a)\n",
        "array_b = np.array(lista_b)\n",
        "\n",
        "print(f\"Sumamos las listas: {lista_a + lista_b}\")\n",
        "print(f\"Sumamos los arrays: {array_a + array_b}\")\n",
        "\n",
        "# Si quiero que las listas se sumen como los arrays\n",
        "# print(f\"Sumando las listas como si fuesen arrays: {[a + b for a, b in zip(lista_a, lista_b)]}\")\n",
        "\n",
        "# Si quiero que los arrays se sumen como las listas\n",
        "# print(f\"Si queremos concatenar los arrays como las listas: {np.concatenate((array_a, array_b))}\")"
      ]
    },
    {
      "cell_type": "code",
      "execution_count": 5,
      "metadata": {
        "colab": {
          "base_uri": "https://localhost:8080/",
          "height": 211
        },
        "id": "d_cmD9RzT0kK",
        "outputId": "4050c566-4a3f-49d5-ea17-b8153d6f39a8"
      },
      "outputs": [
        {
          "output_type": "error",
          "ename": "TypeError",
          "evalue": "can't multiply sequence by non-int of type 'list'",
          "traceback": [
            "\u001b[0;31m---------------------------------------------------------------------------\u001b[0m",
            "\u001b[0;31mTypeError\u001b[0m                                 Traceback (most recent call last)",
            "\u001b[0;32m<ipython-input-5-05f18cd4cb9a>\u001b[0m in \u001b[0;36m<cell line: 4>\u001b[0;34m()\u001b[0m\n\u001b[1;32m      2\u001b[0m \u001b[0;34m\u001b[0m\u001b[0m\n\u001b[1;32m      3\u001b[0m \u001b[0;34m\u001b[0m\u001b[0m\n\u001b[0;32m----> 4\u001b[0;31m \u001b[0mprint\u001b[0m\u001b[0;34m(\u001b[0m\u001b[0;34mf\"Multiplicamos las listas: {lista_a * lista_b}\"\u001b[0m\u001b[0;34m)\u001b[0m  \u001b[0;31m#! Esto dara error ya que no se pueden multiplicar listas por defecto\u001b[0m\u001b[0;34m\u001b[0m\u001b[0;34m\u001b[0m\u001b[0m\n\u001b[0m\u001b[1;32m      5\u001b[0m \u001b[0;34m\u001b[0m\u001b[0m\n\u001b[1;32m      6\u001b[0m \u001b[0mprint\u001b[0m\u001b[0;34m(\u001b[0m\u001b[0;34mf\"Multiplicamos los arrays: {array_a * array_b}\"\u001b[0m\u001b[0;34m)\u001b[0m\u001b[0;34m\u001b[0m\u001b[0;34m\u001b[0m\u001b[0m\n",
            "\u001b[0;31mTypeError\u001b[0m: can't multiply sequence by non-int of type 'list'"
          ]
        }
      ],
      "source": [
        "# ARRAYS: OPERACION MULTIPLICACION ---\n",
        "\n",
        "\n",
        "print(f\"Multiplicamos las listas: {lista_a * lista_b}\")  #! Esto dara error ya que no se pueden multiplicar listas por defecto\n",
        "\n",
        "print(f\"Multiplicamos los arrays: {array_a * array_b}\")\n",
        "print(f\"Multiplicamos las listas como si fuesen arrays: {[a * b for a, b in zip(lista_a, lista_b)]}\")\n"
      ]
    },
    {
      "cell_type": "code",
      "execution_count": 6,
      "metadata": {
        "colab": {
          "base_uri": "https://localhost:8080/"
        },
        "id": "hXg-Mi70W1yH",
        "outputId": "e91a8392-1e4c-483f-8051-08ad44387d16"
      },
      "outputs": [
        {
          "output_type": "stream",
          "name": "stdout",
          "text": [
            "Así se vería la multiplicacion usando arrays: \n",
            " [[ 4 10]\n",
            " [ 4 10]]\n",
            "Así se vería la multiplicacion usando listas: \n",
            " [[4, 10], [4, 10]]\n"
          ]
        }
      ],
      "source": [
        "# MATRICES: OPERACION MULTIPLICACION ---\n",
        "\n",
        "resultado_con_arrays = matriz_a_con_arrays * matriz_b_con_arrays\n",
        "print(f\"Así se vería la multiplicacion usando arrays: \\n {resultado_con_arrays}\")\n",
        "\n",
        "\n",
        "resultado_con_listas = [[0 for _ in range(len(matriz_b_con_listas[0]))] for _ in range(len(matriz_a_con_listas))]\n",
        "for i in range(len(matriz_a_con_listas)):  # Filas de matriz_a\n",
        "  for j in range(len(matriz_b_con_listas[0])):\n",
        "    resultado_con_listas[i][j] = matriz_a_con_listas[i][j] * matriz_b_con_listas[i][j]\n",
        "\n",
        "print(f\"Así se vería la multiplicacion usando listas: \\n {resultado_con_listas}\")\n",
        "\n"
      ]
    },
    {
      "cell_type": "code",
      "execution_count": 7,
      "metadata": {
        "colab": {
          "base_uri": "https://localhost:8080/"
        },
        "id": "xp9-D28mYn9S",
        "outputId": "c927ddf3-888f-4eb0-abc9-37f4be89204d"
      },
      "outputs": [
        {
          "output_type": "stream",
          "name": "stdout",
          "text": [
            "Multiplicamos matriz_a_con_arrays con matriz_b_con_arrays:\n",
            " [[12 15]\n",
            " [12 15]]\n",
            "Multiplicamos matriz_b_con_arrays con matriz_a_con_arrays:\n",
            " [[ 9 18]\n",
            " [ 9 18]]\n"
          ]
        }
      ],
      "source": [
        "# MATRICES: OPERACION MULTIPLICACION DOT ---\n",
        "\n",
        "print(f\"Multiplicamos matriz_a_con_arrays con matriz_b_con_arrays:\\n {np.dot(matriz_a_con_arrays, matriz_b_con_arrays)}\")\n",
        "print(f\"Multiplicamos matriz_b_con_arrays con matriz_a_con_arrays:\\n {np.dot(matriz_b_con_arrays, matriz_a_con_arrays)}\")\n",
        "\n"
      ]
    },
    {
      "cell_type": "code",
      "execution_count": 8,
      "metadata": {
        "colab": {
          "base_uri": "https://localhost:8080/"
        },
        "id": "PTBBkuf3czxg",
        "outputId": "5a65b336-de6f-4438-c8ab-b3cd2dc424e3"
      },
      "outputs": [
        {
          "output_type": "stream",
          "name": "stdout",
          "text": [
            "Sumamos 10 a todos los elementos de la matriz:\n",
            " [[11 12]\n",
            " [11 12]]\n",
            "Multiplicamos por 10 todos los elementos de la matriz:\n",
            " [[10 20]\n",
            " [10 20]]\n",
            "Calculamos la raiz cuadrada de todos los elementos de la matriz:\n",
            " [[1.         1.41421356]\n",
            " [1.         1.41421356]]\n",
            "Calculamos el logaritmo de todos los elementos de la matriz:\n",
            " [[0.         0.69314718]\n",
            " [0.         0.69314718]]\n",
            "Calculamos el seno de todos los elementos de la matriz:\n",
            " [[0.84147098 0.90929743]\n",
            " [0.84147098 0.90929743]]\n"
          ]
        }
      ],
      "source": [
        "# MATRICES: OPERACIONES GENERICAS ---\n",
        "\n",
        "print(f\"Sumamos 10 a todos los elementos de la matriz:\\n {matriz_a_con_arrays + 10}\")\n",
        "print(f\"Multiplicamos por 10 todos los elementos de la matriz:\\n {matriz_a_con_arrays * 10}\")\n",
        "print(f\"Calculamos la raiz cuadrada de todos los elementos de la matriz:\\n {np.sqrt(matriz_a_con_arrays)}\")\n",
        "print(f\"Calculamos el logaritmo de todos los elementos de la matriz:\\n {np.log(matriz_a_con_arrays)}\")\n",
        "print(f\"Calculamos el seno de todos los elementos de la matriz:\\n {np.sin(matriz_a_con_arrays)}\")\n"
      ]
    },
    {
      "cell_type": "markdown",
      "metadata": {
        "id": "BOFCg3fgczxg"
      },
      "source": [
        "### Propiedades"
      ]
    },
    {
      "cell_type": "code",
      "execution_count": 9,
      "metadata": {
        "colab": {
          "base_uri": "https://localhost:8080/"
        },
        "id": "k3AONpL76ufi",
        "outputId": "df19c841-30de-4bb1-b29f-814e30643b68"
      },
      "outputs": [
        {
          "output_type": "stream",
          "name": "stdout",
          "text": [
            "array_a:\n",
            " [[ 1.  2.  3.  4.]\n",
            " [ 2.  3.  4. nan]] \n",
            "\n",
            "Size: 8\n",
            "len: 2\n",
            "Shape: (2, 4)\n",
            "Matriz traspuesta:\n",
            " [[ 1.  2.]\n",
            " [ 2.  3.]\n",
            " [ 3.  4.]\n",
            " [ 4. nan]]\n",
            "Shape de la matriz traspuesta: (4, 2)\n",
            "Cambiamos las dimensiones a (1,8): [[ 1.  2.  3.  4.  2.  3.  4. nan]]\n",
            "Datatype: float64\n",
            "array como float: \n",
            " [[ 1.  2.  3.  4.]\n",
            " [ 2.  3.  4. nan]]\n",
            "Datatype: float64\n",
            "\n",
            "List: [[1.0, 2.0, 3.0, 4.0], [2.0, 3.0, 4.0, nan]]\n",
            "<class 'list'>\n"
          ]
        }
      ],
      "source": [
        "# ARRAYS: PROPIEDADES ---\n",
        "\n",
        "array_a = np.array([[1, 2, 3, 4], [2,3,4,np.nan]])\n",
        "\n",
        "print(f\"array_a:\\n {array_a} \\n\")\n",
        "\n",
        "print(\"Size:\", array_a.size)\n",
        "\n",
        "# check len of the array\n",
        "print(\"len:\", len(array_a))\n",
        "\n",
        "# check shape of the array\n",
        "print(\"Shape:\", array_a.shape)\n",
        "\n",
        "print(f\"Matriz traspuesta:\\n {array_a.T}\")\n",
        "\n",
        "print(f\"Shape de la matriz traspuesta: {array_a.T.shape}\")\n",
        "\n",
        "print(f\"Cambiamos las dimensiones a (1,8): {array_a.reshape(1, 8)}\")\n",
        "\n",
        "# check dtype of the array elements\n",
        "print(\"Datatype:\", array_a.dtype)\n",
        "\n",
        "# change the dtype to 'float64'\n",
        "array_a = array_a.astype('float64')\n",
        "print(f\"array como float: \\n {array_a}\")\n",
        "print(\"Datatype:\", array_a.dtype)\n",
        "\n",
        "# convert array to list\n",
        "lis = array_a.tolist()\n",
        "print(\"\\nList:\", lis)\n",
        "print(type(lis))"
      ]
    },
    {
      "cell_type": "code",
      "execution_count": 10,
      "metadata": {
        "colab": {
          "base_uri": "https://localhost:8080/"
        },
        "id": "rl3HZjUnczxg",
        "outputId": "6052db08-fc7d-400f-b553-15a1ba66f366"
      },
      "outputs": [
        {
          "output_type": "stream",
          "name": "stdout",
          "text": [
            "Array : \n",
            "[[ 1  2  3  4]\n",
            " [ 5  6  7  8]\n",
            " [ 9 10 11 12]]\n",
            "\n",
            "Array tras borrar elementos: \n",
            "[[ 1  3  4]\n",
            " [ 5  7  8]\n",
            " [ 9 11 12]]\n",
            "Array tras insertar elementos: \n",
            "[[ 1  2  3  4]\n",
            " [ 6  6  6  6]\n",
            " [ 5  6  7  8]\n",
            " [ 9 10 11 12]]\n",
            "Array tras añadir elementos al final: \n",
            "[[ 1  2  3  4]\n",
            " [ 5  6  7  8]\n",
            " [ 9 10 11 12]\n",
            " [ 6  6  6  6]]\n"
          ]
        }
      ],
      "source": [
        "arr = np.array([[1,2,3,4], [5,6,7,8], [9,10,11,12]])\n",
        "print(f\"Array : \\n{arr}\\n\")\n",
        "\n",
        "print(f\"Array tras borrar elementos: \\n{np.delete(arr, 1, axis = 1)}\")\n",
        "print(f\"Array tras insertar elementos: \\n{np.insert(arr, 1, 6, axis = 0)}\")\n",
        "print(f\"Array tras añadir elementos al final: \\n{np.append(arr, [[6,6,6,6]], axis = 0)}\")\n",
        "\n",
        "\n",
        "## Ejercicio: Usar append para añadir una columna al final\n",
        "\n"
      ]
    },
    {
      "cell_type": "code",
      "execution_count": 11,
      "metadata": {
        "colab": {
          "base_uri": "https://localhost:8080/"
        },
        "id": "dxdykGN-_my8",
        "outputId": "d4251b9c-44e2-4bc5-99e7-879716d20168"
      },
      "outputs": [
        {
          "output_type": "stream",
          "name": "stdout",
          "text": [
            "Array:\n",
            " [1 4 2 3]\n",
            "Array ordenado de menor a mayor:\n",
            " [1 2 3 4]\n",
            "¿Los valores son mayores que 2?:\n",
            " [False False  True  True]\n",
            "Filtrar elementos mayores que 2:\n",
            " [3 4]\n",
            "Filtrar elementos mayores que 2 y menores que 4:\n",
            " [3]\n"
          ]
        }
      ],
      "source": [
        "# ARRAYS: FILTRAR DATOS ---\n",
        "\n",
        "array_a = np.array([1, 4, 2, 3])\n",
        "print(f\"Array:\\n {array_a}\")\n",
        "\n",
        "array_a.sort()\n",
        "print(f\"Array ordenado de menor a mayor:\\n {array_a}\")\n",
        "\n",
        "print(f\"¿Los valores son mayores que 2?:\\n {array_a > 2}\")\n",
        "\n",
        "print(f\"Filtrar elementos mayores que 2:\\n {array_a[array_a > 2]}\")\n",
        "print(f\"Filtrar elementos mayores que 2 y menores que 4:\\n {array_a[(array_a > 2) & (array_a < 4)]}\")\n"
      ]
    },
    {
      "cell_type": "code",
      "execution_count": 12,
      "metadata": {
        "colab": {
          "base_uri": "https://localhost:8080/"
        },
        "id": "0lNkGjUqEiAT",
        "outputId": "fb8db7ed-318a-4f36-f9a3-a6147d5d2e7c"
      },
      "outputs": [
        {
          "output_type": "stream",
          "name": "stdout",
          "text": [
            "array:\n",
            "[[ 1.  -4. ]\n",
            " [12.   3. ]\n",
            " [ 7.2  5. ]]\n",
            "\n",
            "Elementos individuales: \n",
            "Elemento (0,1): -4.0 \n",
            "Elemento (2,1): 5.0\n",
            "\n",
            "Vector de elementos de la fila 1: \n",
            "[12.  3.]\n",
            "\n",
            "Vector de elementos de la columna 0: \n",
            "[ 1.  12.   7.2]\n",
            "\n",
            "Submatriz de 2x2 con las primeras dos filas: \n",
            "[[ 1. -4.]\n",
            " [12.  3.]]\n",
            "\n"
          ]
        }
      ],
      "source": [
        "# MATRICES: FILTRAR DATOS ---\n",
        "\n",
        "lista_de_listas=[ [1  ,-4],\n",
        "                  [12 , 3],\n",
        "                  [7.2, 5]]\n",
        "\n",
        "a = np.array(lista_de_listas)\n",
        "\n",
        "print(f\"array:\\n{a}\\n\")\n",
        "\n",
        "print(f\"Elementos individuales: \\nElemento (0,1): {a[0,1]} \\nElemento (2,1): {a[2,1]}\\n\")\n",
        "\n",
        "print(f\"Vector de elementos de la fila 1: \\n{a[1,:]}\\n\")\n",
        "\n",
        "print(f\"Vector de elementos de la columna 0: \\n{a[:,0]}\\n\")\n",
        "\n",
        "print(f\"Submatriz de 2x2 con las primeras dos filas: \\n{a[0:2,:]}\\n\")"
      ]
    },
    {
      "cell_type": "markdown",
      "metadata": {
        "id": "bP3RCHaZC6zH"
      },
      "source": [
        "### Números aleatorios\n",
        "\n",
        "Los números aleatorios son aquellos que no siguen un patrón predecible. Imagina lanzar un dado: cada vez que lo lanzas, el resultado es un número aleatorio entre 1 y 6, ya que no puedes predecir cuál saldrá. En programación, necesitamos generar números aleatorios para cosas como:\n",
        "\n",
        "- Simulaciones.\n",
        "- Modelos estadísticos.\n",
        "- Pruebas y experimentos controlados.\n",
        "\n",
        "Es aqui donde numpy nos puede ayudar, ya que tiene un módulo llamado __numpy.random__, que nos permite generar números aleatorios de diferentes formas. Esto es muy útil si queremos hacer simulaciones o crear datos ficticios para probar cosas."
      ]
    },
    {
      "cell_type": "code",
      "execution_count": 13,
      "metadata": {
        "colab": {
          "base_uri": "https://localhost:8080/"
        },
        "id": "ZvwO0OAzA7XJ",
        "outputId": "0b58db28-c1ca-4932-f8e0-160c5d891521"
      },
      "outputs": [
        {
          "output_type": "stream",
          "name": "stdout",
          "text": [
            "Creacion de array con random.rand (valores aleatorios entre 0 y 1): [0.70602063 0.27012731 0.06128212 0.81147926 0.49341054]\n"
          ]
        }
      ],
      "source": [
        "print(f\"Creacion de array con random.rand (valores aleatorios entre 0 y 1): {np.random.rand(5)}\")\n"
      ]
    },
    {
      "cell_type": "markdown",
      "metadata": {
        "id": "id-lOgq8GzqJ"
      },
      "source": [
        "Con esto somos capaces de generar números aleatorios, pero en ocasiones queremos generar números aleatorios con ciertos requisitos o restricciones. Para eso el modulo random tiene una serie de funciones para que usemosla que más nos interese."
      ]
    },
    {
      "cell_type": "code",
      "execution_count": 14,
      "metadata": {
        "colab": {
          "base_uri": "https://localhost:8080/"
        },
        "id": "lMxb07X_FSkc",
        "outputId": "bab1eb34-41d8-441e-8d33-062607c9ec23"
      },
      "outputs": [
        {
          "output_type": "stream",
          "name": "stdout",
          "text": [
            "Cara del dado: [3]\n"
          ]
        }
      ],
      "source": [
        "# Genera un número entero aleatorio entre 1 y 6 (como un dado)\n",
        "numero_dado = np.random.randint(low = 1, high = 7, size = 1)\n",
        "print(f\"Cara del dado: {numero_dado}\")"
      ]
    },
    {
      "cell_type": "code",
      "execution_count": 15,
      "metadata": {
        "colab": {
          "base_uri": "https://localhost:8080/"
        },
        "id": "aI8wWvGHHxv2",
        "outputId": "0ea8a5cf-c4eb-47c7-c637-06004c1e7536"
      },
      "outputs": [
        {
          "output_type": "stream",
          "name": "stdout",
          "text": [
            "Numeros normales:\n",
            " [-1.08227005 -0.44135147  0.91556503 -1.50932808 -1.29413756  0.82111126\n",
            "  0.98640228  1.05987643  0.65197583 -1.0025265 ]\n",
            "\n",
            "Numeros binomiales:\n",
            " [8 4 7 6 5 5 5 6 7 5]\n"
          ]
        }
      ],
      "source": [
        "# Genera 10 números aleatorios con distribución normal (media=0, desviación estándar=1)\n",
        "numeros_normales = np.random.normal(loc = 0, scale = 1, size=10)\n",
        "print(f\"Numeros normales:\\n {numeros_normales}\\n\")\n",
        "\n",
        "\n",
        "# Genera un números aleatorio con distribución binomial (n_observaciones=10, probbilidad de exito=0.5)\n",
        "numeros_binomiales = np.random.binomial(n = 10, p = 0.5, size=10)\n",
        "print(f\"Numeros binomiales:\\n {numeros_binomiales}\")"
      ]
    },
    {
      "cell_type": "code",
      "execution_count": null,
      "metadata": {
        "colab": {
          "base_uri": "https://localhost:8080/"
        },
        "id": "TTd89A0QLCoH",
        "outputId": "926c89e8-ce97-4764-e6b8-bd6d7a80d71f"
      },
      "outputs": [
        {
          "name": "stdout",
          "output_type": "stream",
          "text": [
            "['Alumno1', 'Alumno4', 'Alumno8', 'Alumno2', 'Alumno3', 'Alumno5', 'Alumno10', 'Alumno7', 'Alumno9', 'Alumno6']\n"
          ]
        },
        {
          "data": {
            "text/plain": [
              "array(['Alumno2', 'Alumno7', 'Alumno6', 'Alumno10', 'Alumno9', 'Alumno5',\n",
              "       'Alumno8', 'Alumno4', 'Alumno1', 'Alumno3'], dtype='<U8')"
            ]
          },
          "execution_count": 123,
          "metadata": {},
          "output_type": "execute_result"
        }
      ],
      "source": [
        "## Ejercicio:\n",
        "## Dada una serie de alumnos, vamos a obtener una ordenación aleatoria\n",
        "\n",
        "# Lista de 10 alumnos\n",
        "alumnos = ['Alumno1', 'Alumno2', 'Alumno3', 'Alumno4', 'Alumno5',\n",
        "           'Alumno6', 'Alumno7', 'Alumno8', 'Alumno9', 'Alumno10']\n"
      ]
    },
    {
      "cell_type": "code",
      "execution_count": null,
      "metadata": {
        "id": "Ti5Aszimczxh"
      },
      "outputs": [],
      "source": [
        "## Solucion:\n",
        "\n",
        "# Lista para almacenar el resultado de la selección aleatoria\n",
        "alumnos_seleccionados = []\n",
        "\n",
        "# Selección aleatoria de alumnos usando random.randint\n",
        "while len(alumnos_seleccionados) < len(alumnos):\n",
        "    # Genera un índice aleatorio entre 0 y el número de alumnos - 1\n",
        "    indice_aleatorio = np.random.randint(0, len(alumnos))\n",
        "\n",
        "    # Si el alumno no ha sido seleccionado antes, lo añadimos a la lista\n",
        "    if alumnos[indice_aleatorio] not in alumnos_seleccionados:\n",
        "        alumnos_seleccionados.append(alumnos[indice_aleatorio])\n",
        "\n",
        "# Imprimimos la lista de alumnos seleccionados aleatoriamente\n",
        "print(alumnos_seleccionados)\n",
        "\n",
        "\n",
        "\n",
        "#np.random.permutation(alumnos) #? Ordernar usando permutaciones\n"
      ]
    },
    {
      "cell_type": "code",
      "execution_count": null,
      "metadata": {
        "colab": {
          "base_uri": "https://localhost:8080/"
        },
        "id": "am6hdMEEMGyx",
        "outputId": "678cfb86-3f0e-40be-fce1-9a7e0ea5f5f7"
      },
      "outputs": [
        {
          "name": "stdout",
          "output_type": "stream",
          "text": [
            "['Alumno9', 'Alumno3']\n"
          ]
        }
      ],
      "source": [
        "\n",
        "# Lista de 10 alumnos\n",
        "alumnos = ['Alumno1', 'Alumno2', 'Alumno3', 'Alumno4', 'Alumno5',\n",
        "           'Alumno6', 'Alumno7', 'Alumno8', 'Alumno9', 'Alumno10']\n",
        "\n",
        "# Número de alumnos\n",
        "n_alumnos = len(alumnos)\n",
        "\n",
        "# Genera una lista de índices aleatorios sin repetir usando np.random.choice\n",
        "indices_aleatorios = np.random.choice(n_alumnos, size=2, replace=False)\n",
        "\n",
        "# Selecciona a los alumnos basándote en los índices aleatorios generados\n",
        "alumnos_seleccionados = [alumnos[i] for i in indices_aleatorios]\n",
        "\n",
        "# Imprimir la lista de alumnos seleccionados aleatoriamente\n",
        "print(alumnos_seleccionados)"
      ]
    },
    {
      "cell_type": "code",
      "execution_count": null,
      "metadata": {
        "colab": {
          "base_uri": "https://localhost:8080/"
        },
        "id": "j_gjRqBiJTOY",
        "outputId": "40ddcd23-64fd-4b78-d52f-e9d9a5049d4e"
      },
      "outputs": [
        {
          "name": "stdout",
          "output_type": "stream",
          "text": [
            "['Alumno9' 'Alumno2' 'Alumno6' 'Alumno1' 'Alumno8' 'Alumno3' 'Alumno10'\n",
            " 'Alumno5' 'Alumno4' 'Alumno7']\n"
          ]
        }
      ],
      "source": [
        "# np.random.seed(42)  #? Si queremos reproducibilidad, necesitamos una semilla\n",
        "\n",
        "alumnos = ['Alumno1', 'Alumno2', 'Alumno3', 'Alumno4', 'Alumno5',\n",
        "           'Alumno6', 'Alumno7', 'Alumno8', 'Alumno9', 'Alumno10']\n",
        "\n",
        "alumnos_aleatorios = np.random.permutation(alumnos)\n",
        "\n",
        "print(alumnos_aleatorios)"
      ]
    },
    {
      "cell_type": "markdown",
      "metadata": {
        "id": "hw15KlesIxb5"
      },
      "source": [
        "### ¿Por qué es útil esto?\n",
        "\n",
        "- Simulaciones: Imagina que estás simulando el lanzamiento de un dado 100 veces. Puedes usar np.random.randint() para simularlo rápidamente.\n",
        "\n",
        "- Generación de datos ficticios: Si necesitas crear datos para practicar o probar un modelo, Numpy facilita la generación de números aleatorios que siguen patrones específicos (distribución normal, uniforme, etc.).\n",
        "\n",
        "- Pruebas y experimentos: En muchos experimentos, es útil generar datos aleatorios para probar hipótesis o ver cómo un sistema responde a entradas no predecibles.\n",
        "\n",
        "Numpy no solo genera números aleatorios, sino que te permite hacerlo de forma eficiente y en diferentes formas (arrays, matrices, distribuciones específicas). Esto es increíblemente útil cuando trabajamos con datos o simulaciones.\n",
        "\n",
        "### Funciones estadisticas\n",
        "\n",
        "Numpy nos permite calcular estadísticas sobre uestros datos, lo cual es útil para poder tener un mejor entendimiento de estos. A continuación veremos las más conocidas."
      ]
    },
    {
      "cell_type": "code",
      "execution_count": null,
      "metadata": {
        "id": "zlwwPvEqczxi",
        "outputId": "592e8aef-3651-4509-95a7-b18662a377f3"
      },
      "outputs": [
        {
          "name": "stdout",
          "output_type": "stream",
          "text": [
            "Datos:\n",
            "[55.89838978 45.74071221 53.99594645 26.57872252 26.34175845 38.5103069\n",
            " 45.02784427 57.96360823 47.06078914 37.57318723 29.73630792 52.30000573\n",
            " 30.35294574 56.28468555 37.1561535  55.90582073 46.7893129  38.63004511\n",
            " 34.80603628 36.59092123 44.28316692 40.77156496 34.06188592 38.3436859\n",
            " 40.7857703  18.71265906 44.58168115 30.20278775 28.46667597 23.12655653\n",
            " 22.06107502 26.44552497 32.90979042 59.53259138 34.74120324 41.77750106\n",
            " 44.00481387 41.31065186 39.22556539 28.04706236 54.50927548 58.07196644\n",
            " 23.17341306 29.75971409 37.20189658 30.35462205 45.05965553 32.71727798\n",
            " 61.65056068 51.90548594 42.12574031 50.26986263 51.05900424 34.36052512\n",
            " 31.83782755 40.78143063 48.61636124 41.39060399 24.23003518 31.97175556\n",
            " 39.26027136 39.24334396 59.72542177 26.14012058 45.05589242 54.89113108\n",
            " 62.71449745 35.95602577 44.91429453 45.69760357 41.95481732 39.01154799\n",
            " 44.3597539  14.67753915 46.8206949  41.26177904 37.77525103 60.46862196\n",
            " 33.25065981 35.96924011 59.91553302 31.67938695 34.49884717 38.52974577\n",
            " 48.40734482 42.07802507 27.07374653 34.67831437 33.92645567 39.22778955\n",
            " 44.25843659 44.18205756 22.23988246 50.63940988 42.52568846 53.84532048\n",
            " 44.44198327 51.01322958 44.66545311 53.46225756]\n",
            "\n",
            "Media de los datos: 40.78120143716221\n",
            "Suma de los datos: 4078.1201437162213\n",
            "Minimo valor de los datos: 14.677539147803145\n",
            "Maximo valor de los datos: 62.71449745422796\n",
            "Mediana de los datos: 40.78360046344399\n",
            "Percentil 75 de los datos: 46.880718460007564\n",
            "Desviacion estandard de los datos: 10.581195813515432\n"
          ]
        }
      ],
      "source": [
        "datos = np.random.normal(40, 10, 100)\n",
        "\n",
        "print(f\"Datos:\\n{datos}\\n\")\n",
        "print(f\"Media de los datos: {np.mean(datos)}\")\n",
        "print(f\"Suma de los datos: {np.sum(datos)}\")\n",
        "print(f\"Minimo valor de los datos: {np.min(datos)}\")\n",
        "print(f\"Maximo valor de los datos: {np.max(datos)}\")\n",
        "print(f\"Mediana de los datos: {np.median(datos)}\")\n",
        "print(f\"Percentil 75 de los datos: {np.percentile(datos, 75)}\")\n",
        "print(f\"Desviacion estandard de los datos: {np.std(datos)}\")"
      ]
    },
    {
      "cell_type": "code",
      "execution_count": null,
      "metadata": {
        "id": "heAQf6cAczxi",
        "outputId": "42a0fa20-2d4c-4292-b42f-797adca345c8"
      },
      "outputs": [
        {
          "name": "stdout",
          "output_type": "stream",
          "text": [
            "Datos:\n",
            "[[1 2 3]\n",
            " [4 5 6]]\n",
            "\n",
            "Media de los datos: 3.5\n",
            "Suma de los datos: 21\n",
            "Minimo valor de los datos: 1\n",
            "Maximo valor de los datos: 6\n",
            "Mediana de los datos: 3.5\n",
            "Percentil 75 de los datos: 4.75\n",
            "Desviacion estandard de los datos: 1.707825127659933\n"
          ]
        }
      ],
      "source": [
        "datos = np.array([[1,2,3],[4,5,6]])\n",
        "\n",
        "print(f\"Datos:\\n{datos}\\n\")\n",
        "print(f\"Media de los datos: {np.mean(datos)}\")\n",
        "print(f\"Suma de los datos: {np.sum(datos)}\")\n",
        "print(f\"Minimo valor de los datos: {np.min(datos)}\")\n",
        "print(f\"Maximo valor de los datos: {np.max(datos)}\")\n",
        "print(f\"Mediana de los datos: {np.median(datos)}\")\n",
        "print(f\"Percentil 75 de los datos: {np.percentile(datos, 75)}\")\n",
        "print(f\"Desviacion estandard de los datos: {np.std(datos)}\")"
      ]
    },
    {
      "cell_type": "code",
      "execution_count": 16,
      "metadata": {
        "colab": {
          "base_uri": "https://localhost:8080/"
        },
        "id": "GdpGqcinczxi",
        "outputId": "26205d83-4a5d-4af3-ec68-087928f59643"
      },
      "outputs": [
        {
          "output_type": "stream",
          "name": "stdout",
          "text": [
            "Datos:\n",
            "[[ 1.  2.  3.]\n",
            " [ 4.  5. nan]]\n",
            "\n",
            "Maximo valor de los datos: 5.0\n",
            "Maximo valor de los datos: 5.0\n",
            "Maximo valor de los datos: 5.0\n"
          ]
        }
      ],
      "source": [
        "# Vamos a complicar esto un poco añadiendo valores nulos.\n",
        "# Veremos un ejemplo calculando el maximo\n",
        "\n",
        "\n",
        "datos = np.array([[1,2,3],[4,5,np.nan]])\n",
        "\n",
        "print(f\"Datos:\\n{datos}\\n\")\n",
        "\n",
        "print(f\"Maximo valor de los datos: {np.max(datos, where = ~np.isnan(datos), initial=-np.inf)}\")\n",
        "print(f\"Maximo valor de los datos: {np.nanmax(datos)}\")\n",
        "print(f\"Maximo valor de los datos: {np.max(datos[~np.isnan(datos)])}\") #! Esta forma fallara si queremos hacer los calculos en un eje"
      ]
    }
  ],
  "metadata": {
    "colab": {
      "provenance": []
    },
    "kernelspec": {
      "display_name": "Python 3",
      "name": "python3"
    },
    "language_info": {
      "codemirror_mode": {
        "name": "ipython",
        "version": 3
      },
      "file_extension": ".py",
      "mimetype": "text/x-python",
      "name": "python",
      "nbconvert_exporter": "python",
      "pygments_lexer": "ipython3",
      "version": "3.11.9"
    }
  },
  "nbformat": 4,
  "nbformat_minor": 0
}