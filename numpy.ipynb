{
 "cells": [
  {
   "cell_type": "markdown",
   "metadata": {
    "id": "4mIfjK5Ovs1S"
   },
   "source": [
    "# Numpy\n",
    "\n",
    "NumPy es el paquete fundamental para la computación científica en Python. Es una librería de Python que proporciona un objeto array multidimensional,  y una serie de rutinas para operaciones rápidas sobre arrays, incluyendo operaciones matemáticas, lógicas, manipulación de formas, ordenación, selección, álgebra lineal básica, operaciones estadísticas básicas, simulación aleatoria y mucho más.\n",
    "\n",
    "Existen varias diferencias importantes entre los arrays de NumPy y las listas estándar de Python:\n",
    "\n",
    "- Los arrays de NumPy tienen un tamaño fijo en el momento de su creación, a diferencia de las listas de Python (que pueden crecer dinámicamente). Si se cambia el tamaño de una matriz NumPy, se creará un nuevo array y se borrará el original.\n",
    "\n",
    "- Los elementos de un array de NumPy deben ser todos del mismo tipo de datos y, por tanto, tendrán el mismo tamaño en memoria.\n",
    "\n",
    "- Los arrays de NumPy facilitan las operaciones matemáticas avanzadas y otros tipos de operaciones con grandes cantidades de datos. Normalmente, estas operaciones se ejecutan de forma más eficiente y con menos código que con las listas incorporadas en Python.\n",
    "\n",
    "- Una bateria creciente de paquetes científicos y matemáticos basados en Python utilizan arrays de NumPy; aunque normalmente admiten la entrada de listas de Python, convierten dicha entrada en arrays de NumPy antes de procesarla, y a menudo dan como salida arrays de NumPy. En otras palabras, para utilizar eficientemente gran parte del software científico/matemático actual basado en Python, no basta con saber utilizar listas, sino que también hay que saber utilizar los arrays de NumPy.\n",
    "\n",
    "- Un array puede ser de una dimensión (como una lista), de dos dimensiones (como una matriz) o incluso de más dimensiones.\n",
    "\n",
    "\n",
    "![arrays de distintas dimensiones](https://www.pythontutorial.net/wp-content/uploads/2022/08/what-is-numpy-1024x572.png)\n",
    "\n",
    "### Creación de arrays"
   ]
  },
  {
   "cell_type": "code",
   "execution_count": 31,
   "metadata": {
    "id": "0ZzTpUgRvoYd"
   },
   "outputs": [],
   "source": [
    "import numpy as np\n"
   ]
  },
  {
   "cell_type": "code",
   "execution_count": 32,
   "metadata": {
    "colab": {
     "base_uri": "https://localhost:8080/"
    },
    "id": "IUlgqA-h5eQ4",
    "outputId": "1b148233-39a8-4dc9-a9d2-86d849f2c407"
   },
   "outputs": [
    {
     "name": "stdout",
     "output_type": "stream",
     "text": [
      "Creacion de array con lista (se especifican los valores): [1 2 3]\n",
      "Creacion de array con arange (valores spaciados en un intervalo): [1 2 3 4 5 6 7 8 9]\n",
      "Creacion de array con linspace (valores espaciados en un intervalo): [ 1.    3.25  5.5   7.75 10.  ]\n",
      "Creacion de array con zeros (todos los valores son 0): [0 0 0 0 0]\n",
      "Creacion de array con zeros (todos los valores son 0): [[0 0 0 0]\n",
      " [0 0 0 0]\n",
      " [0 0 0 0]\n",
      " [0 0 0 0]]\n",
      "Creacion de array con ones (todos los valores son 1): [1 1 1 1 1]\n"
     ]
    }
   ],
   "source": [
    "# ARRAYS: FORMAS DE CREACION ---\n",
    "\n",
    "print(f\"Creacion de array con lista (se especifican los valores): {np.array([1,2,3])}\")\n",
    "\n",
    "print(f\"Creacion de array con arange (valores spaciados en un intervalo): {np.arange(start = 1, stop = 10, step = 1)}\")\n",
    "\n",
    "print(f\"Creacion de array con linspace (valores espaciados en un intervalo): {np.linspace(start = 1, stop = 10, num = 5)}\")\n",
    "\n",
    "print(f\"Creacion de array con zeros (todos los valores son 0): {np.zeros(shape = 5, dtype=int)}\")\n",
    "\n",
    "print(f\"Creacion de array con zeros (todos los valores son 0): {np.zeros(shape = (4,4), dtype=int)}\")\n",
    "\n",
    "print(f\"Creacion de array con ones (todos los valores son 1): {np.ones(5, dtype=int)}\")\n",
    "\n"
   ]
  },
  {
   "cell_type": "code",
   "execution_count": 33,
   "metadata": {
    "colab": {
     "base_uri": "https://localhost:8080/"
    },
    "id": "lCqbc41QV43j",
    "outputId": "0566015f-f9cf-4815-ae2f-18c68355c4db"
   },
   "outputs": [
    {
     "name": "stdout",
     "output_type": "stream",
     "text": [
      "Así se vería la matriz_a en listas: \n",
      " [[1, 2], [1, 2]]\n",
      "Así se vería la matriz_b en listas: \n",
      " [[4, 5], [4, 5]]\n",
      "Así se vería la matriz_a en numpy: \n",
      " [[1 2]\n",
      " [1 2]]\n",
      "Así se vería la matriz_b en numpy: \n",
      " [[4 5]\n",
      " [4 5]]\n"
     ]
    }
   ],
   "source": [
    "# MATRICES: ---\n",
    "lista_a = [1, 2]\n",
    "lista_b = [4, 5]\n",
    "\n",
    "matriz_a_con_listas = [lista_a, lista_a]\n",
    "matriz_b_con_listas = [lista_b, lista_b]\n",
    "\n",
    "matriz_a_con_arrays = np.array([lista_a, lista_a])\n",
    "matriz_b_con_arrays = np.array([lista_b, lista_b])\n",
    "\n",
    "print(f\"Así se vería la matriz_a en listas: \\n {matriz_a_con_listas}\")\n",
    "print(f\"Así se vería la matriz_b en listas: \\n {matriz_b_con_listas}\")\n",
    "\n",
    "print(f\"Así se vería la matriz_a en numpy: \\n {matriz_a_con_arrays}\")\n",
    "print(f\"Así se vería la matriz_b en numpy: \\n {matriz_b_con_arrays}\")"
   ]
  },
  {
   "cell_type": "markdown",
   "metadata": {
    "id": "1u-aRY9yczxf"
   },
   "source": [
    "### Operaciones con arrays"
   ]
  },
  {
   "cell_type": "code",
   "execution_count": 34,
   "metadata": {
    "colab": {
     "base_uri": "https://localhost:8080/"
    },
    "id": "O3iUTqwsy2u1",
    "outputId": "b3eedcb4-5d3a-4d3e-8fad-0d65480fbaa3"
   },
   "outputs": [
    {
     "name": "stdout",
     "output_type": "stream",
     "text": [
      "Sumamos las listas: [1, 2, 4, 5]\n",
      "Sumamos los arrays: [5 7]\n",
      "Sumando las listas como si fuesen arrays: [5, 7]\n",
      "Si queremos concatenar los arrays como las listas: [1 2 4 5]\n"
     ]
    }
   ],
   "source": [
    "# ARRAYS: OPERACION SUMA ----\n",
    "lista_a = [1, 2]\n",
    "lista_b = [4, 5]\n",
    "\n",
    "array_a = np.array(lista_a)\n",
    "array_b = np.array(lista_b)\n",
    "\n",
    "print(f\"Sumamos las listas: {lista_a + lista_b}\")\n",
    "print(f\"Sumamos los arrays: {array_a + array_b}\")\n",
    "\n",
    "# Si quiero que las listas se sumen como los arrays\n",
    "print(f\"Sumando las listas como si fuesen arrays: {[a + b for a, b in zip(lista_a, lista_b)]}\")\n",
    "\n",
    "# Si quiero que los arrays se sumen como las listas\n",
    "print(f\"Si queremos concatenar los arrays como las listas: {np.concatenate((array_a, array_b))}\")"
   ]
  },
  {
   "cell_type": "code",
   "execution_count": 35,
   "metadata": {
    "colab": {
     "base_uri": "https://localhost:8080/",
     "height": 211
    },
    "id": "d_cmD9RzT0kK",
    "outputId": "4050c566-4a3f-49d5-ea17-b8153d6f39a8"
   },
   "outputs": [
    {
     "name": "stdout",
     "output_type": "stream",
     "text": [
      "Multiplicamos los arrays: [ 4 10]\n",
      "Multiplicamos las listas como si fuesen arrays: [4, 10]\n"
     ]
    }
   ],
   "source": [
    "# ARRAYS: OPERACION MULTIPLICACION ---\n",
    "\n",
    "\n",
    "# print(f\"Multiplicamos las listas: {lista_a * lista_b}\")  #! Esto dara error ya que no se pueden multiplicar listas por defecto\n",
    "\n",
    "print(f\"Multiplicamos los arrays: {array_a * array_b}\")\n",
    "print(f\"Multiplicamos las listas como si fuesen arrays: {[a * b for a, b in zip(lista_a, lista_b)]}\")\n"
   ]
  },
  {
   "cell_type": "code",
   "execution_count": 36,
   "metadata": {
    "colab": {
     "base_uri": "https://localhost:8080/"
    },
    "id": "hXg-Mi70W1yH",
    "outputId": "e91a8392-1e4c-483f-8051-08ad44387d16"
   },
   "outputs": [
    {
     "name": "stdout",
     "output_type": "stream",
     "text": [
      "Así se vería la multiplicacion usando arrays: \n",
      " [[ 4 10]\n",
      " [ 4 10]]\n",
      "Así se vería la multiplicacion usando listas: \n",
      " [[4, 10], [4, 10]]\n"
     ]
    }
   ],
   "source": [
    "# MATRICES: OPERACION MULTIPLICACION ---\n",
    "\n",
    "resultado_con_arrays = matriz_a_con_arrays * matriz_b_con_arrays\n",
    "print(f\"Así se vería la multiplicacion usando arrays: \\n {resultado_con_arrays}\")\n",
    "\n",
    "\n",
    "resultado_con_listas = [[0 for _ in range(len(matriz_b_con_listas[0]))] for _ in range(len(matriz_a_con_listas))]\n",
    "for i in range(len(matriz_a_con_listas)):  # Filas de matriz_a\n",
    "  for j in range(len(matriz_b_con_listas[0])):\n",
    "    resultado_con_listas[i][j] = matriz_a_con_listas[i][j] * matriz_b_con_listas[i][j]\n",
    "\n",
    "print(f\"Así se vería la multiplicacion usando listas: \\n {resultado_con_listas}\")\n",
    "\n"
   ]
  },
  {
   "cell_type": "code",
   "execution_count": 37,
   "metadata": {
    "colab": {
     "base_uri": "https://localhost:8080/"
    },
    "id": "xp9-D28mYn9S",
    "outputId": "c927ddf3-888f-4eb0-abc9-37f4be89204d"
   },
   "outputs": [
    {
     "name": "stdout",
     "output_type": "stream",
     "text": [
      "Multiplicamos matriz_a_con_arrays con matriz_b_con_arrays:\n",
      " [[12 15]\n",
      " [12 15]]\n",
      "Multiplicamos matriz_b_con_arrays con matriz_a_con_arrays:\n",
      " [[ 9 18]\n",
      " [ 9 18]]\n"
     ]
    }
   ],
   "source": [
    "# MATRICES: OPERACION MULTIPLICACION DOT ---\n",
    "\n",
    "print(f\"Multiplicamos matriz_a_con_arrays con matriz_b_con_arrays:\\n {np.dot(matriz_a_con_arrays, matriz_b_con_arrays)}\")\n",
    "print(f\"Multiplicamos matriz_b_con_arrays con matriz_a_con_arrays:\\n {np.dot(matriz_b_con_arrays, matriz_a_con_arrays)}\")\n",
    "\n"
   ]
  },
  {
   "cell_type": "code",
   "execution_count": 38,
   "metadata": {
    "colab": {
     "base_uri": "https://localhost:8080/"
    },
    "id": "PTBBkuf3czxg",
    "outputId": "5a65b336-de6f-4438-c8ab-b3cd2dc424e3"
   },
   "outputs": [
    {
     "name": "stdout",
     "output_type": "stream",
     "text": [
      "Sumamos 10 a todos los elementos de la matriz:\n",
      " [[11 12]\n",
      " [11 12]]\n",
      "Multiplicamos por 10 todos los elementos de la matriz:\n",
      " [[10 20]\n",
      " [10 20]]\n",
      "Calculamos la raiz cuadrada de todos los elementos de la matriz:\n",
      " [[1.         1.41421356]\n",
      " [1.         1.41421356]]\n",
      "Calculamos el logaritmo de todos los elementos de la matriz:\n",
      " [[0.         0.69314718]\n",
      " [0.         0.69314718]]\n",
      "Calculamos el seno de todos los elementos de la matriz:\n",
      " [[0.84147098 0.90929743]\n",
      " [0.84147098 0.90929743]]\n"
     ]
    }
   ],
   "source": [
    "# MATRICES: OPERACIONES GENERICAS ---\n",
    "\n",
    "print(f\"Sumamos 10 a todos los elementos de la matriz:\\n {matriz_a_con_arrays + 10}\")\n",
    "print(f\"Multiplicamos por 10 todos los elementos de la matriz:\\n {matriz_a_con_arrays * 10}\")\n",
    "print(f\"Calculamos la raiz cuadrada de todos los elementos de la matriz:\\n {np.sqrt(matriz_a_con_arrays)}\")\n",
    "print(f\"Calculamos el logaritmo de todos los elementos de la matriz:\\n {np.log(matriz_a_con_arrays)}\")\n",
    "print(f\"Calculamos el seno de todos los elementos de la matriz:\\n {np.sin(matriz_a_con_arrays)}\")\n"
   ]
  },
  {
   "cell_type": "markdown",
   "metadata": {
    "id": "BOFCg3fgczxg"
   },
   "source": [
    "### Propiedades"
   ]
  },
  {
   "cell_type": "code",
   "execution_count": 39,
   "metadata": {
    "colab": {
     "base_uri": "https://localhost:8080/"
    },
    "id": "k3AONpL76ufi",
    "outputId": "df19c841-30de-4bb1-b29f-814e30643b68"
   },
   "outputs": [
    {
     "name": "stdout",
     "output_type": "stream",
     "text": [
      "array_a:\n",
      " [[ 1.  2.  3.  4.]\n",
      " [ 2.  3.  4. nan]] \n",
      "\n",
      "Size: 8\n",
      "len: 2\n",
      "Shape: (2, 4)\n",
      "Matriz traspuesta:\n",
      " [[ 1.  2.]\n",
      " [ 2.  3.]\n",
      " [ 3.  4.]\n",
      " [ 4. nan]]\n",
      "Shape de la matriz traspuesta: (4, 2)\n",
      "Cambiamos las dimensiones a (1,8): [[ 1.  2.  3.  4.  2.  3.  4. nan]]\n",
      "Datatype: float64\n",
      "array como float: \n",
      " [[ 1.  2.  3.  4.]\n",
      " [ 2.  3.  4. nan]]\n",
      "Datatype: float64\n",
      "\n",
      "List: [[1.0, 2.0, 3.0, 4.0], [2.0, 3.0, 4.0, nan]]\n",
      "<class 'list'>\n"
     ]
    }
   ],
   "source": [
    "# ARRAYS: PROPIEDADES ---\n",
    "\n",
    "array_a = np.array([[1, 2, 3, 4], [2,3,4,np.nan]]) #np.nan o np.na depende de la libreria\n",
    "\n",
    "print(f\"array_a:\\n {array_a} \\n\")\n",
    "\n",
    "print(\"Size:\", array_a.size)\n",
    "\n",
    "# check len of the array\n",
    "print(\"len:\", len(array_a))\n",
    "\n",
    "# check shape of the array\n",
    "print(\"Shape:\", array_a.shape)\n",
    "\n",
    "print(f\"Matriz traspuesta:\\n {array_a.T}\")\n",
    "\n",
    "print(f\"Shape de la matriz traspuesta: {array_a.T.shape}\")\n",
    "\n",
    "print(f\"Cambiamos las dimensiones a (1,8): {array_a.reshape(1, 8)}\")\n",
    "\n",
    "# check dtype of the array elements\n",
    "print(\"Datatype:\", array_a.dtype)\n",
    "\n",
    "# change the dtype to 'float64'\n",
    "array_a = array_a.astype('float64')\n",
    "print(f\"array como float: \\n {array_a}\")\n",
    "print(\"Datatype:\", array_a.dtype)\n",
    "\n",
    "# convert array to list\n",
    "lis = array_a.tolist()\n",
    "print(\"\\nList:\", lis)\n",
    "print(type(lis))"
   ]
  },
  {
   "cell_type": "code",
   "execution_count": 40,
   "metadata": {
    "colab": {
     "base_uri": "https://localhost:8080/"
    },
    "id": "rl3HZjUnczxg",
    "outputId": "6052db08-fc7d-400f-b553-15a1ba66f366"
   },
   "outputs": [
    {
     "name": "stdout",
     "output_type": "stream",
     "text": [
      "Array : \n",
      "[[ 1  2  3  4]\n",
      " [ 5  6  7  8]\n",
      " [ 9 10 11 12]]\n",
      "\n",
      "Array tras borrar elementos: \n",
      "[[ 1  3  4]\n",
      " [ 5  7  8]\n",
      " [ 9 11 12]]\n",
      "Array tras insertar elementos: \n",
      "[[ 1  2  3  4]\n",
      " [ 6  6  6  6]\n",
      " [ 5  6  7  8]\n",
      " [ 9 10 11 12]]\n",
      "Array tras añadir elementos al final: \n",
      "[[ 1  2  3  4]\n",
      " [ 5  6  7  8]\n",
      " [ 9 10 11 12]\n",
      " [ 6  6  6  6]]\n"
     ]
    }
   ],
   "source": [
    "arr = np.array([[1,2,3,4], [5,6,7,8], [9,10,11,12]])\n",
    "print(f\"Array : \\n{arr}\\n\")\n",
    "\n",
    "print(f\"Array tras borrar elementos: \\n{np.delete(arr, 1, axis = 1)}\")\n",
    "print(f\"Array tras insertar elementos: \\n{np.insert(arr, 1, 6, axis = 0)}\")\n",
    "print(f\"Array tras añadir elementos al final: \\n{np.append(arr, [[6,6,6,6]], axis = 0)}\") #axis 1 no funciona, pues inserta\n",
    "# print(f\"Array tras añadir elementos a la derecha: \\n{np.append(arr, [[6,6,6,6]], axis = 1)}\") #axis 1 no funciona, pues inserta\n",
    "\n",
    "## Ejercicio: Usar append para añadir una columna al final\n",
    "\n"
   ]
  },
  {
   "cell_type": "code",
   "execution_count": 41,
   "metadata": {
    "colab": {
     "base_uri": "https://localhost:8080/"
    },
    "id": "dxdykGN-_my8",
    "outputId": "d4251b9c-44e2-4bc5-99e7-879716d20168"
   },
   "outputs": [
    {
     "name": "stdout",
     "output_type": "stream",
     "text": [
      "Array:\n",
      " [1 4 2 3]\n",
      "Array ordenado de menor a mayor:\n",
      " [1 2 3 4]\n",
      "¿Los valores son mayores que 2?:\n",
      " [False False  True  True]\n",
      "Filtrar elementos mayores que 2:\n",
      " [3 4]\n",
      "Filtrar elementos mayores que 2 y menores que 4:\n",
      " [3]\n"
     ]
    }
   ],
   "source": [
    "# ARRAYS: FILTRAR DATOS ---\n",
    "\n",
    "array_a = np.array([1, 4, 2, 3])\n",
    "print(f\"Array:\\n {array_a}\")\n",
    "\n",
    "array_a.sort()\n",
    "print(f\"Array ordenado de menor a mayor:\\n {array_a}\")\n",
    "\n",
    "print(f\"¿Los valores son mayores que 2?:\\n {array_a > 2}\")\n",
    "\n",
    "print(f\"Filtrar elementos mayores que 2:\\n {array_a[array_a > 2]}\")\n",
    "print(f\"Filtrar elementos mayores que 2 y menores que 4:\\n {array_a[(array_a > 2) & (array_a < 4)]}\")\n"
   ]
  },
  {
   "cell_type": "code",
   "execution_count": 42,
   "metadata": {
    "colab": {
     "base_uri": "https://localhost:8080/"
    },
    "id": "0lNkGjUqEiAT",
    "outputId": "fb8db7ed-318a-4f36-f9a3-a6147d5d2e7c"
   },
   "outputs": [
    {
     "name": "stdout",
     "output_type": "stream",
     "text": [
      "array:\n",
      "[[ 1.  -4. ]\n",
      " [12.   3. ]\n",
      " [ 7.2  5. ]]\n",
      "\n",
      "Elementos individuales: \n",
      "Elemento (0,1): -4.0 \n",
      "Elemento (2,1): 5.0\n",
      "\n",
      "Vector de elementos de la fila 1: \n",
      "[12.  3.]\n",
      "\n",
      "Vector de elementos de la columna 0: \n",
      "[ 1.  12.   7.2]\n",
      "\n",
      "Submatriz de 2x2 con las primeras dos filas: \n",
      "[[ 1. -4.]\n",
      " [12.  3.]]\n",
      "\n"
     ]
    }
   ],
   "source": [
    "# MATRICES: FILTRAR DATOS ---\n",
    "\n",
    "lista_de_listas=[ [1  ,-4],\n",
    "                  [12 , 3],\n",
    "                  [7.2, 5]]\n",
    "\n",
    "a = np.array(lista_de_listas)\n",
    "\n",
    "print(f\"array:\\n{a}\\n\")\n",
    "\n",
    "print(f\"Elementos individuales: \\nElemento (0,1): {a[0,1]} \\nElemento (2,1): {a[2,1]}\\n\")\n",
    "\n",
    "print(f\"Vector de elementos de la fila 1: \\n{a[1,:]}\\n\")\n",
    "\n",
    "print(f\"Vector de elementos de la columna 0: \\n{a[:,0]}\\n\")\n",
    "\n",
    "print(f\"Submatriz de 2x2 con las primeras dos filas: \\n{a[0:2,:]}\\n\")"
   ]
  },
  {
   "cell_type": "markdown",
   "metadata": {
    "id": "bP3RCHaZC6zH"
   },
   "source": [
    "### Números aleatorios\n",
    "\n",
    "Los números aleatorios son aquellos que no siguen un patrón predecible. Imagina lanzar un dado: cada vez que lo lanzas, el resultado es un número aleatorio entre 1 y 6, ya que no puedes predecir cuál saldrá. En programación, necesitamos generar números aleatorios para cosas como:\n",
    "\n",
    "- Simulaciones.\n",
    "- Modelos estadísticos.\n",
    "- Pruebas y experimentos controlados.\n",
    "\n",
    "Es aqui donde numpy nos puede ayudar, ya que tiene un módulo llamado __numpy.random__, que nos permite generar números aleatorios de diferentes formas. Esto es muy útil si queremos hacer simulaciones o crear datos ficticios para probar cosas."
   ]
  },
  {
   "cell_type": "code",
   "execution_count": 43,
   "metadata": {
    "colab": {
     "base_uri": "https://localhost:8080/"
    },
    "id": "ZvwO0OAzA7XJ",
    "outputId": "0b58db28-c1ca-4932-f8e0-160c5d891521"
   },
   "outputs": [
    {
     "name": "stdout",
     "output_type": "stream",
     "text": [
      "Creacion de array con random.rand (valores aleatorios entre 0 y 1): [0.40915557 0.86639989 0.80270269 0.3978329  0.68161845]\n"
     ]
    }
   ],
   "source": [
    "print(f\"Creacion de array con random.rand (valores aleatorios entre 0 y 1): {np.random.rand(5)}\")\n"
   ]
  },
  {
   "cell_type": "markdown",
   "metadata": {
    "id": "id-lOgq8GzqJ"
   },
   "source": [
    "Con esto somos capaces de generar números aleatorios, pero en ocasiones queremos generar números aleatorios con ciertos requisitos o restricciones. Para eso el modulo random tiene una serie de funciones para que usemosla que más nos interese."
   ]
  },
  {
   "cell_type": "code",
   "execution_count": 44,
   "metadata": {
    "colab": {
     "base_uri": "https://localhost:8080/"
    },
    "id": "lMxb07X_FSkc",
    "outputId": "bab1eb34-41d8-441e-8d33-062607c9ec23"
   },
   "outputs": [
    {
     "name": "stdout",
     "output_type": "stream",
     "text": [
      "Cara del dado: [6]\n"
     ]
    }
   ],
   "source": [
    "# Genera un número entero aleatorio entre 1 y 6 (como un dado)\n",
    "numero_dado = np.random.randint(low = 1, high = 7, size = 1)\n",
    "print(f\"Cara del dado: {numero_dado}\")"
   ]
  },
  {
   "cell_type": "code",
   "execution_count": 45,
   "metadata": {
    "colab": {
     "base_uri": "https://localhost:8080/"
    },
    "id": "aI8wWvGHHxv2",
    "outputId": "0ea8a5cf-c4eb-47c7-c637-06004c1e7536"
   },
   "outputs": [
    {
     "name": "stdout",
     "output_type": "stream",
     "text": [
      "Numeros normales:\n",
      " [-1.80105584 -1.25821303 -0.72793428 -0.23232401 -1.57322004 -0.27289106\n",
      "  1.32806704 -0.96187018  0.06791599 -0.62593568]\n",
      "\n",
      "Numeros binomiales:\n",
      " [6 6 5 6 5 6 3 7 4 2]\n"
     ]
    }
   ],
   "source": [
    "# Genera 10 números aleatorios con distribución normal (media=0, desviación estándar=1)\n",
    "numeros_normales = np.random.normal(loc = 0, scale = 1, size=10)\n",
    "print(f\"Numeros normales:\\n {numeros_normales}\\n\")\n",
    "\n",
    "\n",
    "# Genera un números aleatorio con distribución binomial (n_observaciones=10, probbilidad de exito=0.5)\n",
    "numeros_binomiales = np.random.binomial(n = 10, p = 0.5, size=10)\n",
    "print(f\"Numeros binomiales:\\n {numeros_binomiales}\")"
   ]
  },
  {
   "cell_type": "code",
   "execution_count": 46,
   "metadata": {
    "colab": {
     "base_uri": "https://localhost:8080/"
    },
    "id": "TTd89A0QLCoH",
    "outputId": "926c89e8-ce97-4764-e6b8-bd6d7a80d71f"
   },
   "outputs": [],
   "source": [
    "## Ejercicio:\n",
    "## Dada una serie de alumnos, vamos a obtener una ordenación aleatoria\n",
    "\n",
    "# Lista de 10 alumnos\n",
    "alumnos = ['Alumno1', 'Alumno2', 'Alumno3', 'Alumno4', 'Alumno5',\n",
    "           'Alumno6', 'Alumno7', 'Alumno8', 'Alumno9', 'Alumno10']\n"
   ]
  },
  {
   "cell_type": "code",
   "execution_count": 47,
   "metadata": {},
   "outputs": [
    {
     "name": "stdout",
     "output_type": "stream",
     "text": [
      "['Alumno6' 'Alumno4' 'Alumno3' 'Alumno5' 'Alumno1' 'Alumno2' 'Alumno8'\n",
      " 'Alumno7' 'Alumno9' 'Alumno10']\n"
     ]
    }
   ],
   "source": [
    "array_alumnos = np.array(alumnos)\n",
    "\n",
    "array_alumnos = np.random.permutation(array_alumnos)\n",
    "print(array_alumnos)"
   ]
  },
  {
   "cell_type": "code",
   "execution_count": 48,
   "metadata": {
    "id": "Ti5Aszimczxh"
   },
   "outputs": [
    {
     "name": "stdout",
     "output_type": "stream",
     "text": [
      "['Alumno6', 'Alumno2', 'Alumno10', 'Alumno4', 'Alumno3', 'Alumno5', 'Alumno1', 'Alumno9', 'Alumno8', 'Alumno7']\n"
     ]
    },
    {
     "data": {
      "text/plain": [
       "array(['Alumno4', 'Alumno5', 'Alumno10', 'Alumno1', 'Alumno2', 'Alumno9',\n",
       "       'Alumno3', 'Alumno6', 'Alumno8', 'Alumno7'], dtype='<U8')"
      ]
     },
     "execution_count": 48,
     "metadata": {},
     "output_type": "execute_result"
    }
   ],
   "source": [
    "## Solucion:\n",
    "\n",
    "# Lista para almacenar el resultado de la selección aleatoria\n",
    "alumnos_seleccionados = []\n",
    "\n",
    "# Selección aleatoria de alumnos usando random.randint\n",
    "while len(alumnos_seleccionados) < len(alumnos):\n",
    "    # Genera un índice aleatorio entre 0 y el número de alumnos - 1\n",
    "    indice_aleatorio = np.random.randint(0, len(alumnos))\n",
    "\n",
    "    # Si el alumno no ha sido seleccionado antes, lo añadimos a la lista\n",
    "    if alumnos[indice_aleatorio] not in alumnos_seleccionados:\n",
    "        alumnos_seleccionados.append(alumnos[indice_aleatorio])\n",
    "\n",
    "# Imprimimos la lista de alumnos seleccionados aleatoriamente\n",
    "print(alumnos_seleccionados)\n",
    "\n",
    "np.random.permutation(alumnos_seleccionados) #? Ordernar usando permutaciones\n"
   ]
  },
  {
   "cell_type": "code",
   "execution_count": 49,
   "metadata": {
    "colab": {
     "base_uri": "https://localhost:8080/"
    },
    "id": "am6hdMEEMGyx",
    "outputId": "678cfb86-3f0e-40be-fce1-9a7e0ea5f5f7"
   },
   "outputs": [
    {
     "name": "stdout",
     "output_type": "stream",
     "text": [
      "['Alumno1', 'Alumno8']\n"
     ]
    }
   ],
   "source": [
    "\n",
    "# Lista de 10 alumnos\n",
    "alumnos = ['Alumno1', 'Alumno2', 'Alumno3', 'Alumno4', 'Alumno5',\n",
    "           'Alumno6', 'Alumno7', 'Alumno8', 'Alumno9', 'Alumno10']\n",
    "\n",
    "# Número de alumnos\n",
    "n_alumnos = len(alumnos)\n",
    "\n",
    "# Genera una lista de índices aleatorios sin repetir usando np.random.choice\n",
    "indices_aleatorios = np.random.choice(n_alumnos, size=2, replace=False)\n",
    "\n",
    "# Selecciona a los alumnos basándote en los índices aleatorios generados\n",
    "alumnos_seleccionados = [alumnos[i] for i in indices_aleatorios]\n",
    "\n",
    "# Imprimir la lista de alumnos seleccionados aleatoriamente\n",
    "print(alumnos_seleccionados)"
   ]
  },
  {
   "cell_type": "code",
   "execution_count": 50,
   "metadata": {
    "colab": {
     "base_uri": "https://localhost:8080/"
    },
    "id": "j_gjRqBiJTOY",
    "outputId": "40ddcd23-64fd-4b78-d52f-e9d9a5049d4e"
   },
   "outputs": [
    {
     "name": "stdout",
     "output_type": "stream",
     "text": [
      "['Alumno7' 'Alumno2' 'Alumno9' 'Alumno10' 'Alumno8' 'Alumno3' 'Alumno5'\n",
      " 'Alumno1' 'Alumno4' 'Alumno6']\n"
     ]
    }
   ],
   "source": [
    "# np.random.seed(42)  #? Si queremos reproducibilidad, necesitamos una semilla\n",
    "\n",
    "alumnos = ['Alumno1', 'Alumno2', 'Alumno3', 'Alumno4', 'Alumno5',\n",
    "           'Alumno6', 'Alumno7', 'Alumno8', 'Alumno9', 'Alumno10']\n",
    "\n",
    "alumnos_aleatorios = np.random.permutation(alumnos)\n",
    "\n",
    "print(alumnos_aleatorios)"
   ]
  },
  {
   "cell_type": "markdown",
   "metadata": {
    "id": "hw15KlesIxb5"
   },
   "source": [
    "### ¿Por qué es útil esto?\n",
    "\n",
    "- Simulaciones: Imagina que estás simulando el lanzamiento de un dado 100 veces. Puedes usar np.random.randint() para simularlo rápidamente.\n",
    "\n",
    "- Generación de datos ficticios: Si necesitas crear datos para practicar o probar un modelo, Numpy facilita la generación de números aleatorios que siguen patrones específicos (distribución normal, uniforme, etc.).\n",
    "\n",
    "- Pruebas y experimentos: En muchos experimentos, es útil generar datos aleatorios para probar hipótesis o ver cómo un sistema responde a entradas no predecibles.\n",
    "\n",
    "Numpy no solo genera números aleatorios, sino que te permite hacerlo de forma eficiente y en diferentes formas (arrays, matrices, distribuciones específicas). Esto es increíblemente útil cuando trabajamos con datos o simulaciones.\n",
    "\n",
    "### Funciones estadisticas\n",
    "\n",
    "Numpy nos permite calcular estadísticas sobre uestros datos, lo cual es útil para poder tener un mejor entendimiento de estos. A continuación veremos las más conocidas."
   ]
  },
  {
   "cell_type": "code",
   "execution_count": 51,
   "metadata": {
    "id": "zlwwPvEqczxi",
    "outputId": "592e8aef-3651-4509-95a7-b18662a377f3"
   },
   "outputs": [
    {
     "name": "stdout",
     "output_type": "stream",
     "text": [
      "Datos:\n",
      "[18.64332523 31.15718408 41.98491146 33.72667186 34.23920679 30.97172436\n",
      " 42.79201141 43.41838211 26.46734155 43.15106949 48.75315024 37.80855269\n",
      " 24.1893903  52.70882048 36.1727253  24.91155196 43.48317076 31.9945204\n",
      " 40.24292525 60.77347343 32.98348657 22.04574191 38.45005072 37.67810662\n",
      " 30.24689672 41.56428106 22.81196542 45.50683152 27.41698088 32.55782148\n",
      " 13.39747074 38.84029384 44.82100048 39.33851482 35.16553746 21.97142663\n",
      " 28.38432734 30.10266611 50.44782134 52.84015043 38.88023312 29.37227779\n",
      " 36.46440532 39.85774423 28.9451468  56.80980154 38.9832294  47.72868635\n",
      " 40.29004676 39.24989954 32.44062897 34.98274103 62.49885576 44.83357027\n",
      " 37.65064353 30.79018084 46.52686937 46.26477355 33.90063402 50.42109084\n",
      " 49.34284393 46.38398272 51.26444605 44.19114683 23.16217848 43.77440151\n",
      " 43.02514147 51.02116589 33.52130449 45.76253743 33.51890315 34.06571285\n",
      " 29.42640914 23.43632716 48.98044839 33.78189859 46.80541787 37.31370084\n",
      " 45.33953136 39.53367164 34.19243979 43.47037565 48.94410804 28.24271853\n",
      " 58.97354114 30.17660147 37.35796483 76.69754551 50.79257548 49.77905495\n",
      " 47.74498313 50.35792492 34.92004737 38.45386251 44.07404785 47.7590777\n",
      " 40.04739131 40.56835532 56.16378971 31.64546899]\n",
      "\n",
      "Media de los datos: 39.45065984251719\n",
      "Suma de los datos: 3945.065984251719\n",
      "Minimo valor de los datos: 13.397470737636485\n",
      "Maximo valor de los datos: 76.6975455139318\n",
      "Mediana de los datos: 39.116564470523926\n",
      "Percentil 75 de los datos: 46.29457584258899\n",
      "Desviacion estandard de los datos: 10.283912960040269\n"
     ]
    }
   ],
   "source": [
    "datos = np.random.normal(40, 10, 100)\n",
    "\n",
    "print(f\"Datos:\\n{datos}\\n\")\n",
    "print(f\"Media de los datos: {np.mean(datos)}\")\n",
    "print(f\"Suma de los datos: {np.sum(datos)}\")\n",
    "print(f\"Minimo valor de los datos: {np.min(datos)}\")\n",
    "print(f\"Maximo valor de los datos: {np.max(datos)}\")\n",
    "print(f\"Mediana de los datos: {np.median(datos)}\")\n",
    "print(f\"Percentil 75 de los datos: {np.percentile(datos, 75)}\")\n",
    "print(f\"Desviacion estandard de los datos: {np.std(datos)}\")"
   ]
  },
  {
   "cell_type": "code",
   "execution_count": 52,
   "metadata": {
    "id": "heAQf6cAczxi",
    "outputId": "42a0fa20-2d4c-4292-b42f-797adca345c8"
   },
   "outputs": [
    {
     "name": "stdout",
     "output_type": "stream",
     "text": [
      "Datos:\n",
      "[[1 2 3]\n",
      " [4 5 6]]\n",
      "\n",
      "Media de los datos: 3.5\n",
      "Suma de los datos: 21\n",
      "Minimo valor de los datos: 1\n",
      "Maximo valor de los datos: 6\n",
      "Mediana de los datos: 3.5\n",
      "Percentil 75 de los datos: 4.75\n",
      "Desviacion estandard de los datos: 1.707825127659933\n"
     ]
    }
   ],
   "source": [
    "datos = np.array([[1,2,3],[4,5,6]])\n",
    "\n",
    "print(f\"Datos:\\n{datos}\\n\")\n",
    "print(f\"Media de los datos: {np.mean(datos)}\")\n",
    "print(f\"Suma de los datos: {np.sum(datos)}\")\n",
    "print(f\"Minimo valor de los datos: {np.min(datos)}\")\n",
    "print(f\"Maximo valor de los datos: {np.max(datos)}\")\n",
    "print(f\"Mediana de los datos: {np.median(datos)}\")\n",
    "print(f\"Percentil 75 de los datos: {np.percentile(datos, 75)}\")\n",
    "print(f\"Desviacion estandard de los datos: {np.std(datos)}\")"
   ]
  },
  {
   "cell_type": "code",
   "execution_count": 53,
   "metadata": {
    "colab": {
     "base_uri": "https://localhost:8080/"
    },
    "id": "GdpGqcinczxi",
    "outputId": "26205d83-4a5d-4af3-ec68-087928f59643"
   },
   "outputs": [
    {
     "name": "stdout",
     "output_type": "stream",
     "text": [
      "Datos:\n",
      "[[ 1.  2.  3.]\n",
      " [ 4.  5. nan]]\n",
      "\n",
      "Maximo valor de los datos: 5.0\n",
      "Maximo valor de los datos: 5.0\n",
      "Maximo valor de los datos: 5.0\n"
     ]
    }
   ],
   "source": [
    "# Vamos a complicar esto un poco añadiendo valores nulos.\n",
    "# Veremos un ejemplo calculando el maximo\n",
    "\n",
    "\n",
    "datos = np.array([[1,2,3],[4,5,np.nan]])\n",
    "\n",
    "print(f\"Datos:\\n{datos}\\n\")\n",
    "\n",
    "print(f\"Maximo valor de los datos: {np.max(datos, where = ~np.isnan(datos), initial=-np.inf)}\") # virgulilla es lo contrario, se busca donde los datos no son nulos, y empieza por - infinito\n",
    "print(f\"Maximo valor de los datos: {np.nanmax(datos)}\")\n",
    "print(f\"Maximo valor de los datos: {np.max(datos[~np.isnan(datos)])}\") #! Esta forma fallara si queremos hacer los calculos en un eje"
   ]
  },
  {
   "cell_type": "code",
   "execution_count": 55,
   "metadata": {},
   "outputs": [
    {
     "name": "stdout",
     "output_type": "stream",
     "text": [
      "La probabilidad de obtener cada suma es: [ 2.881  5.551  8.344 11.013 13.695 16.808 13.684 11.233  8.438  5.569\n",
      "  2.784]%, siendo 2 la minima y 12 la maxima\n"
     ]
    }
   ],
   "source": [
    "array = np.random.randint(low = 1, high = 7, size = (2,100000)).sum(axis = 0)\n",
    "np.unique(array, return_counts=True)\n",
    "\n",
    "probabilidad = np.unique(array, return_counts=True)[1] / len(array)\n",
    "\n",
    "print(f'La probabilidad de obtener cada suma es: {probabilidad*100}%, siendo 2 la minima y 12 la maxima')\n"
   ]
  },
  {
   "cell_type": "code",
   "execution_count": 56,
   "metadata": {},
   "outputs": [
    {
     "name": "stdout",
     "output_type": "stream",
     "text": [
      "Suma 2: 2.81% de probabilidad\n",
      "Suma 3: 5.57% de probabilidad\n",
      "Suma 4: 8.29% de probabilidad\n",
      "Suma 5: 11.06% de probabilidad\n",
      "Suma 6: 13.89% de probabilidad\n",
      "Suma 7: 16.64% de probabilidad\n",
      "Suma 8: 13.95% de probabilidad\n",
      "Suma 9: 11.10% de probabilidad\n",
      "Suma 10: 8.36% de probabilidad\n",
      "Suma 11: 5.52% de probabilidad\n",
      "Suma 12: 2.80% de probabilidad\n"
     ]
    }
   ],
   "source": [
    "import numpy as np\n",
    "\n",
    "def calcular_probabilidades_dados(num_tiradas=1000000):\n",
    "\n",
    "    # Simular el lanzamiento de dos dados num_tiradas veces\n",
    "    tiradas = np.random.randint(1, 7, size=(num_tiradas, 2))\n",
    "    suma_tiradas = tiradas.sum(axis=1)\n",
    "\n",
    "    # Calcular la probabilidad de cada suma\n",
    "    valores_unicos, conteos = np.unique(suma_tiradas, return_counts=True)\n",
    "    probabilidades = conteos / num_tiradas\n",
    "    distribucion_probabilidades = dict(zip(valores_unicos, probabilidades))\n",
    "    \n",
    "    # Mostrar las probabilidades para cada suma\n",
    "    for valor_suma, probabilidad in distribucion_probabilidades.items():\n",
    "        print(f\"Suma {valor_suma}: {probabilidad:.2%} de probabilidad\")\n",
    "\n",
    "if __name__ == \"__main__\":\n",
    "    calcular_probabilidades_dados()\n"
   ]
  }
 ],
 "metadata": {
  "colab": {
   "provenance": []
  },
  "kernelspec": {
   "display_name": "Python 3",
   "name": "python3"
  },
  "language_info": {
   "codemirror_mode": {
    "name": "ipython",
    "version": 3
   },
   "file_extension": ".py",
   "mimetype": "text/x-python",
   "name": "python",
   "nbconvert_exporter": "python",
   "pygments_lexer": "ipython3",
   "version": "3.12.7"
  }
 },
 "nbformat": 4,
 "nbformat_minor": 0
}
