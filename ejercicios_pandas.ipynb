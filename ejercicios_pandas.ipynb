{
 "cells": [
  {
   "cell_type": "markdown",
   "metadata": {},
   "source": [
    "# Ejercicios de Pandas\n",
    "\n",
    "**Instrucciones:**\n",
    "- Lee cada enunciado cuidadosamente\n",
    "- Los ejercicios requieren combinar varias operaciones de pandas\n",
    "- Intenta resolver cada problema paso a paso\n",
    "- Algunos ejercicios tienen múltiples soluciones válidas"
   ]
  },
  {
   "cell_type": "code",
   "execution_count": null,
   "metadata": {},
   "outputs": [],
   "source": [
    "# Importar librerías\n",
    "import pandas as pd\n",
    "import numpy as np\n",
    "from datetime import datetime, timedelta"
   ]
  },
  {
   "cell_type": "code",
   "execution_count": null,
   "metadata": {},
   "outputs": [],
   "source": [
    "# Cargar los datos\n",
    "data = pd.read_csv(\"material/data.csv\")\n",
    "data.head(10)"
   ]
  },
  {
   "cell_type": "markdown",
   "metadata": {},
   "source": [
    "---\n",
    "\n",
    "### Ejercicio 1: Clientes VIP\n",
    "Identifica a los clientes VIP basándote en los siguientes criterios:\n",
    "- Han realizado al menos 3 órdenes diferentes\n",
    "- Su gasto total supera los 100€\n",
    "- El precio medio de sus compras es superior a 30€\n",
    "\n",
    "Crea un DataFrame con:\n",
    "- `order_customer_id`\n",
    "- Número de órdenes\n",
    "- Gasto total\n",
    "- Gasto medio\n",
    "- Una columna booleana `es_vip` que indique si cumple los 3 criterios\n",
    "\n",
    "Ordena el resultado por gasto total descendente."
   ]
  },
  {
   "cell_type": "markdown",
   "metadata": {},
   "source": [
    "### Ejercicio 2: Análisis de Cestas de Compra\n",
    "Para cada orden (`order_id`), calcula:\n",
    "- Número total de productos en la orden\n",
    "- Número de unidades totales compradas\n",
    "- Importe total de la orden\n",
    "- Número de familias de productos diferentes en la orden\n",
    "- Precio medio por producto\n",
    "\n",
    "Luego identifica:\n",
    "- Las 5 órdenes con mayor diversidad de productos (más familias diferentes)\n",
    "- Las 5 órdenes con mayor importe total\n",
    "- ¿Hay solapamiento entre estas dos listas?"
   ]
  },
  {
   "cell_type": "code",
   "execution_count": null,
   "metadata": {},
   "outputs": [],
   "source": [
    "# Tu código aquí\n"
   ]
  },
  {
   "cell_type": "markdown",
   "metadata": {},
   "source": [
    "### Ejercicio 3: Patrón de Compra Recurrente\n",
    "Identifica qué clientes compran regularmente (tienen órdenes en al menos 3 fechas diferentes) y cuál es su familia de productos favorita (la que más compran en términos de cantidad total).\n",
    "\n",
    "Crea un DataFrame que muestre:\n",
    "- `order_customer_id`\n",
    "- Número de días diferentes en que ha comprado\n",
    "- Familia de productos favorita\n",
    "- Cantidad total comprada de esa familia\n",
    "- Porcentaje que representa esa familia sobre sus compras totales"
   ]
  },
  {
   "cell_type": "markdown",
   "metadata": {},
   "source": [
    "\n",
    "\n",
    "### Ejercicio 4: Tendencia de Ventas\n",
    "Convierte la columna `fecha` a datetime y realiza el siguiente análisis:\n",
    "\n",
    "1. Calcula las ventas diarias totales (suma de `price`)\n",
    "2. Añade una columna con la diferencia porcentual respecto al día anterior\n",
    "3. Identifica los 3 días con mayor crecimiento porcentual\n",
    "4. Identifica los 3 días con mayor caída porcentual\n",
    "\n"
   ]
  },
  {
   "cell_type": "markdown",
   "metadata": {},
   "source": [
    "### Ejercicio 5: Análisis de Fin de Semana vs Entre Semana\n",
    "Compara el comportamiento de compra entre fin de semana (sábado y domingo) y entre semana:\n",
    "\n",
    "Para cada segmento calcula:\n",
    "- Número de órdenes únicas\n",
    "- Ticket medio (precio medio por orden)\n",
    "- Productos por orden (media)\n",
    "- Familia de productos más vendida\n",
    "- Porcentaje de ventas de cada familia\n",
    "\n",
    "Presenta los resultados en un formato que permita comparar fácilmente ambos segmentos."
   ]
  },
  {
   "cell_type": "markdown",
   "metadata": {},
   "source": [
    "### Ejercicio 6: Cohort Analysis Simplificado\n",
    "Realiza un análisis de cohortes básico:\n",
    "\n",
    "1. Para cada cliente, identifica la fecha de su primera compra (fecha de adquisición)\n",
    "2. Agrupa a los clientes por semana de adquisición\n",
    "3. Para cada cohorte, calcula:\n",
    "   - Número de clientes en la cohorte\n",
    "   - Gasto total de la cohorte\n",
    "   - Gasto medio por cliente\n",
    "   - Número medio de órdenes por cliente\n",
    "   \n",
    "Ordena las cohortes de más antigua a más reciente."
   ]
  },
  {
   "cell_type": "markdown",
   "metadata": {},
   "source": [
    "\n",
    "### Ejercicio 7: Elasticidad de Cantidad\n",
    "Analiza cómo varía la cantidad comprada según el precio unitario:\n",
    "\n",
    "1. Crea rangos de precio unitario (bins): 0-20, 20-40, 40-60, 60+\n",
    "2. Para cada rango y cada familia de productos, calcula:\n",
    "   - Cantidad media comprada\n",
    "   - Número de transacciones\n",
    "   - Precio unitario medio\n",
    "3. Crea una tabla pivote que muestre la cantidad media comprada con:\n",
    "   - Filas: familias de productos\n",
    "   - Columnas: rangos de precio\n",
    "4. ¿Qué familia de productos es menos sensible al precio (mantiene cantidades altas incluso a precios altos)?"
   ]
  },
  {
   "cell_type": "markdown",
   "metadata": {},
   "source": [
    "### Ejercicio 8: Análisis de Margen de Contribución\n",
    "Simula el coste del producto (como mucho 40% del `unit_price`). Calcula para cada familia de productos:\n",
    "\n",
    "1. Margen unitario promedio (unit_price - coste)\n",
    "2. Margen total (suma de todos los márgenes de las ventas)\n",
    "3. Contribución al margen total del negocio (porcentaje)\n",
    "\n",
    "Ordena por contribución al margen descendente. ¿Cuál es la familia más rentable?"
   ]
  },
  {
   "cell_type": "markdown",
   "metadata": {},
   "source": [
    "\n",
    "\n",
    "### Ejercicio 9: Segmentación RFM (Recency, Frequency, Monetary)\n",
    "Crea una segmentación RFM de clientes:\n",
    "\n",
    "1. **Recency**: Días desde la última compra (usa la fecha más reciente del dataset como referencia)\n",
    "2. **Frequency**: Número de órdenes del cliente\n",
    "3. **Monetary**: Gasto total del cliente\n",
    "\n",
    "Para cada métrica:\n",
    "- Asigna un score de 1 a 4 usando cuartiles (1=peor, 4=mejor)\n",
    "- Para Recency, invierte la lógica (menor recency = mejor = score más alto)\n",
    "\n",
    "Crea una columna `RFM_Score` concatenando los tres scores (ej: \"444\" = cliente excelente).\n",
    "\n",
    "Finalmente, clasifica a los clientes en segmentos de tu ínteres.\n",
    "\n",
    "¿Cuántos clientes hay en cada segmento?"
   ]
  },
  {
   "cell_type": "markdown",
   "metadata": {},
   "source": [
    "### Ejercicio 10: Análisis de Pareto (80/20)\n",
    "Realiza un análisis de Pareto para identificar:\n",
    "\n",
    "1. **A nivel de clientes**: ¿Qué porcentaje de clientes genera el 80% de los ingresos?\n",
    "2. **A nivel de productos**: ¿Qué porcentaje de familias de productos genera el 80% de los ingresos?\n",
    "3. **A nivel de órdenes**: ¿Qué porcentaje de órdenes representa el 80% de los ingresos?\n",
    "\n",
    "Para cada análisis:\n",
    "- Ordena por ingresos descendente\n",
    "- Calcula el porcentaje acumulado de ingresos\n",
    "- Identifica el punto donde se alcanza el 80%\n",
    "- Calcula qué porcentaje del total representa ese punto"
   ]
  },
  {
   "cell_type": "markdown",
   "metadata": {},
   "source": [
    "### Ejercicio 11: Análisis de Días Anómalos\n",
    "Identifica días con comportamiento de ventas anómalo:\n",
    "\n",
    "1. Calcula las ventas diarias totales\n",
    "2. Calcula la media y desviación estándar de las ventas diarias\n",
    "3. Identifica días \"anómalos\":\n",
    "   - Días con ventas > media + 1.5*desviación_estándar (picos)\n",
    "   - Días con ventas < media - 1.5*desviación_estándar (caídas)\n",
    "\n",
    "4. Para los días anómalos, analiza:\n",
    "   - ¿Qué día de la semana son?\n",
    "   - ¿Qué porcentaje de ventas aportaron cada familia en esos días?"
   ]
  },
  {
   "cell_type": "markdown",
   "metadata": {},
   "source": [
    "\n",
    "### Ejercicio 12: Predicción de Próxima Compra\n",
    "Para cada cliente que haya comprado más de una vez:\n",
    "\n",
    "1. Calcula el tiempo medio entre compras (en días)\n",
    "2. Calcula la desviación estándar del tiempo entre compras\n",
    "3. Identifica la fecha de la última compra\n",
    "4. Predice cuándo hará su próxima compra: última_compra + tiempo_medio\n",
    "5. Calcula un \"intervalo de confianza\" simple: próxima_compra ± desviación_estándar\n",
    "\n",
    "Clasifica a los clientes en:\n",
    "- \"Debería comprar pronto\": próxima compra predicha ya pasó\n",
    "- \"Compra inminente\": próxima compra en los próximos 7 días\n",
    "- \"No urgente\": próxima compra en más de 7 días"
   ]
  },
  {
   "cell_type": "markdown",
   "metadata": {},
   "source": [
    "### Ejercicio 13: Reporte Ejecutivo Automatizado\n",
    "Crea una función que genere un reporte ejecutivo automático:\n",
    "\n",
    "La función debe:\n",
    "1. Recibir el DataFrame y un rango de fechas\n",
    "2. Filtrar los datos por ese rango\n",
    "3. Calcular y retornar un diccionario con:\n",
    "   - Resumen de ventas (total, media diaria, tendencia)\n",
    "   - Top 5 clientes\n",
    "   - Top 3 productos\n",
    "   - Alertas (días con caídas >20%, clientes con comportamiento inusual, etc.)\n",
    "   - Recomendaciones automáticas basadas en los datos\n",
    "\n",
    "Prueba la función con diferentes rangos de fechas."
   ]
  },
  {
   "cell_type": "code",
   "execution_count": null,
   "metadata": {},
   "outputs": [],
   "source": [
    "# Tu código aquí\n",
    "def generar_reporte_ejecutivo(df, fecha_inicio, fecha_fin):\n",
    "    \"\"\"\n",
    "    Genera un reporte ejecutivo automático para un rango de fechas.\n",
    "    \n",
    "    Parameters:\n",
    "    -----------\n",
    "    df : DataFrame\n",
    "        DataFrame con los datos de ventas\n",
    "    fecha_inicio : str\n",
    "        Fecha de inicio en formato 'YYYY-MM-DD'\n",
    "    fecha_fin : str\n",
    "        Fecha de fin en formato 'YYYY-MM-DD'\n",
    "    \n",
    "    Returns:\n",
    "    --------\n",
    "    dict : Diccionario con el reporte completo\n",
    "    \"\"\"\n",
    "    reporte = {}\n",
    "    \n",
    "    # Tu código aquí\n",
    "    \n",
    "    return reporte\n",
    "\n",
    "# Probar la función\n"
   ]
  },
  {
   "cell_type": "markdown",
   "metadata": {},
   "source": [
    "---\n",
    "## Ejercicios Extra \n",
    "\n",
    "### Sistema de Recomendación Simple\n",
    "Basándote en el historial de compras, crea un sistema de recomendación:\n",
    "\n",
    "1. Para cada cliente, identifica qué familias de productos ha comprado\n",
    "2. Para cada familia que ha comprado, encuentra qué otras familias compran frecuentemente los clientes que también compraron esa familia\n",
    "3. Recomienda al cliente las familias que no ha comprado aún pero que son populares entre clientes similares\n",
    "4. Calcula un \"score de confianza\" basado en la frecuencia de co-ocurrencia\n",
    "\n",
    "Prueba el sistema con 5 clientes diferentes."
   ]
  },
  {
   "cell_type": "markdown",
   "metadata": {},
   "source": [
    "### Análisis de Supervivencia de Clientes\n",
    "Realiza un análisis básico de supervivencia (retención) de clientes:\n",
    "\n",
    "1. Para cada cliente, calcula:\n",
    "   - Fecha de primera compra (cohorte)\n",
    "   - Fecha de última compra\n",
    "   - \"Tiempo de vida\" en días\n",
    "   - Si está \"activo\" (compró en los últimos 30 días) o \"churned\"\n",
    "\n",
    "2. Agrupa por cohorte (semana de primera compra) y calcula:\n",
    "   - Tamaño de la cohorte\n",
    "   - Tiempo medio de vida\n",
    "   - Tasa de retención (% de activos)\n",
    "   - Valor medio generado por cliente\n",
    "\n",
    "3. ¿Qué cohorte tiene mejor retención? "
   ]
  }
 ],
 "metadata": {
  "kernelspec": {
   "display_name": "Python 3",
   "language": "python",
   "name": "python3"
  },
  "language_info": {
   "codemirror_mode": {
    "name": "ipython",
    "version": 3
   },
   "file_extension": ".py",
   "mimetype": "text/x-python",
   "name": "python",
   "nbconvert_exporter": "python",
   "pygments_lexer": "ipython3",
   "version": "3.8.0"
  }
 },
 "nbformat": 4,
 "nbformat_minor": 4
}
